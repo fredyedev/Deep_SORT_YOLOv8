{
  "nbformat": 4,
  "nbformat_minor": 0,
  "metadata": {
    "colab": {
      "provenance": []
    },
    "kernelspec": {
      "name": "python3",
      "display_name": "Python 3"
    },
    "language_info": {
      "name": "python"
    }
  },
  "cells": [
    {
      "cell_type": "code",
      "source": [
        "!pip install ultralytics"
      ],
      "metadata": {
        "colab": {
          "base_uri": "https://localhost:8080/"
        },
        "id": "FoMPxdeIH6Fl",
        "outputId": "8d800cfe-e594-42da-91e0-c9c0df54d2cb"
      },
      "execution_count": 1,
      "outputs": [
        {
          "output_type": "stream",
          "name": "stdout",
          "text": [
            "Looking in indexes: https://pypi.org/simple, https://us-python.pkg.dev/colab-wheels/public/simple/\n",
            "Collecting ultralytics\n",
            "  Downloading ultralytics-8.0.114-py3-none-any.whl (595 kB)\n",
            "\u001b[2K     \u001b[90m━━━━━━━━━━━━━━━━━━━━━━━━━━━━━━━━━━━━━━\u001b[0m \u001b[32m595.4/595.4 kB\u001b[0m \u001b[31m24.7 MB/s\u001b[0m eta \u001b[36m0:00:00\u001b[0m\n",
            "\u001b[?25hRequirement already satisfied: matplotlib>=3.2.2 in /usr/local/lib/python3.10/dist-packages (from ultralytics) (3.7.1)\n",
            "Requirement already satisfied: opencv-python>=4.6.0 in /usr/local/lib/python3.10/dist-packages (from ultralytics) (4.7.0.72)\n",
            "Requirement already satisfied: Pillow>=7.1.2 in /usr/local/lib/python3.10/dist-packages (from ultralytics) (8.4.0)\n",
            "Requirement already satisfied: PyYAML>=5.3.1 in /usr/local/lib/python3.10/dist-packages (from ultralytics) (6.0)\n",
            "Requirement already satisfied: requests>=2.23.0 in /usr/local/lib/python3.10/dist-packages (from ultralytics) (2.27.1)\n",
            "Requirement already satisfied: scipy>=1.4.1 in /usr/local/lib/python3.10/dist-packages (from ultralytics) (1.10.1)\n",
            "Requirement already satisfied: torch>=1.7.0 in /usr/local/lib/python3.10/dist-packages (from ultralytics) (2.0.1+cu118)\n",
            "Requirement already satisfied: torchvision>=0.8.1 in /usr/local/lib/python3.10/dist-packages (from ultralytics) (0.15.2+cu118)\n",
            "Requirement already satisfied: tqdm>=4.64.0 in /usr/local/lib/python3.10/dist-packages (from ultralytics) (4.65.0)\n",
            "Requirement already satisfied: pandas>=1.1.4 in /usr/local/lib/python3.10/dist-packages (from ultralytics) (1.5.3)\n",
            "Requirement already satisfied: seaborn>=0.11.0 in /usr/local/lib/python3.10/dist-packages (from ultralytics) (0.12.2)\n",
            "Requirement already satisfied: psutil in /usr/local/lib/python3.10/dist-packages (from ultralytics) (5.9.5)\n",
            "Requirement already satisfied: contourpy>=1.0.1 in /usr/local/lib/python3.10/dist-packages (from matplotlib>=3.2.2->ultralytics) (1.0.7)\n",
            "Requirement already satisfied: cycler>=0.10 in /usr/local/lib/python3.10/dist-packages (from matplotlib>=3.2.2->ultralytics) (0.11.0)\n",
            "Requirement already satisfied: fonttools>=4.22.0 in /usr/local/lib/python3.10/dist-packages (from matplotlib>=3.2.2->ultralytics) (4.39.3)\n",
            "Requirement already satisfied: kiwisolver>=1.0.1 in /usr/local/lib/python3.10/dist-packages (from matplotlib>=3.2.2->ultralytics) (1.4.4)\n",
            "Requirement already satisfied: numpy>=1.20 in /usr/local/lib/python3.10/dist-packages (from matplotlib>=3.2.2->ultralytics) (1.22.4)\n",
            "Requirement already satisfied: packaging>=20.0 in /usr/local/lib/python3.10/dist-packages (from matplotlib>=3.2.2->ultralytics) (23.1)\n",
            "Requirement already satisfied: pyparsing>=2.3.1 in /usr/local/lib/python3.10/dist-packages (from matplotlib>=3.2.2->ultralytics) (3.0.9)\n",
            "Requirement already satisfied: python-dateutil>=2.7 in /usr/local/lib/python3.10/dist-packages (from matplotlib>=3.2.2->ultralytics) (2.8.2)\n",
            "Requirement already satisfied: pytz>=2020.1 in /usr/local/lib/python3.10/dist-packages (from pandas>=1.1.4->ultralytics) (2022.7.1)\n",
            "Requirement already satisfied: urllib3<1.27,>=1.21.1 in /usr/local/lib/python3.10/dist-packages (from requests>=2.23.0->ultralytics) (1.26.15)\n",
            "Requirement already satisfied: certifi>=2017.4.17 in /usr/local/lib/python3.10/dist-packages (from requests>=2.23.0->ultralytics) (2022.12.7)\n",
            "Requirement already satisfied: charset-normalizer~=2.0.0 in /usr/local/lib/python3.10/dist-packages (from requests>=2.23.0->ultralytics) (2.0.12)\n",
            "Requirement already satisfied: idna<4,>=2.5 in /usr/local/lib/python3.10/dist-packages (from requests>=2.23.0->ultralytics) (3.4)\n",
            "Requirement already satisfied: filelock in /usr/local/lib/python3.10/dist-packages (from torch>=1.7.0->ultralytics) (3.12.0)\n",
            "Requirement already satisfied: typing-extensions in /usr/local/lib/python3.10/dist-packages (from torch>=1.7.0->ultralytics) (4.5.0)\n",
            "Requirement already satisfied: sympy in /usr/local/lib/python3.10/dist-packages (from torch>=1.7.0->ultralytics) (1.11.1)\n",
            "Requirement already satisfied: networkx in /usr/local/lib/python3.10/dist-packages (from torch>=1.7.0->ultralytics) (3.1)\n",
            "Requirement already satisfied: jinja2 in /usr/local/lib/python3.10/dist-packages (from torch>=1.7.0->ultralytics) (3.1.2)\n",
            "Requirement already satisfied: triton==2.0.0 in /usr/local/lib/python3.10/dist-packages (from torch>=1.7.0->ultralytics) (2.0.0)\n",
            "Requirement already satisfied: cmake in /usr/local/lib/python3.10/dist-packages (from triton==2.0.0->torch>=1.7.0->ultralytics) (3.25.2)\n",
            "Requirement already satisfied: lit in /usr/local/lib/python3.10/dist-packages (from triton==2.0.0->torch>=1.7.0->ultralytics) (16.0.5)\n",
            "Requirement already satisfied: six>=1.5 in /usr/local/lib/python3.10/dist-packages (from python-dateutil>=2.7->matplotlib>=3.2.2->ultralytics) (1.16.0)\n",
            "Requirement already satisfied: MarkupSafe>=2.0 in /usr/local/lib/python3.10/dist-packages (from jinja2->torch>=1.7.0->ultralytics) (2.1.2)\n",
            "Requirement already satisfied: mpmath>=0.19 in /usr/local/lib/python3.10/dist-packages (from sympy->torch>=1.7.0->ultralytics) (1.3.0)\n",
            "Installing collected packages: ultralytics\n",
            "Successfully installed ultralytics-8.0.114\n"
          ]
        }
      ]
    },
    {
      "cell_type": "code",
      "source": [
        "# from google.colab import drive\n",
        "# drive.mount('/content/drive/')"
      ],
      "metadata": {
        "id": "v5AijxcNNVWe"
      },
      "execution_count": 2,
      "outputs": []
    },
    {
      "cell_type": "code",
      "source": [
        "import numpy as np\n",
        "import scipy.linalg\n",
        "import time\n",
        "import matplotlib.pyplot as plt\n",
        "import cv2\n",
        "from scipy.optimize import linear_sum_assignment as linear_assignment\n",
        "from collections import deque\n",
        "from absl import flags\n",
        "import sys\n",
        "import os\n",
        "import errno\n",
        "import argparse\n",
        "import tensorflow as tf\n",
        "import random\n",
        "from ultralytics import YOLO"
      ],
      "metadata": {
        "id": "b2uIMDKc-aoJ"
      },
      "execution_count": 3,
      "outputs": []
    },
    {
      "cell_type": "code",
      "source": [
        "INFTY_COST = 1e+5\n",
        "chi2inv95 = {\n",
        "    1: 3.8415,\n",
        "    2: 5.9915,\n",
        "    3: 7.8147,\n",
        "    4: 9.4877,\n",
        "    5: 11.070,\n",
        "    6: 12.592,\n",
        "    7: 14.067,\n",
        "    8: 15.507,\n",
        "    9: 16.919}"
      ],
      "metadata": {
        "id": "ahL2wEn0pYWh"
      },
      "execution_count": 4,
      "outputs": []
    },
    {
      "cell_type": "markdown",
      "source": [
        "# Kalman Filter Predictor"
      ],
      "metadata": {
        "id": "lj6x4KFx-P88"
      }
    },
    {
      "cell_type": "code",
      "execution_count": 5,
      "metadata": {
        "id": "5_72JBcM9jIi"
      },
      "outputs": [],
      "source": [
        "class KalmanFilter(object):\n",
        "\n",
        "    def __init__(self):\n",
        "        ndim, dt = 4, 1.\n",
        "\n",
        "        # Create Kalman filter model matrices.\n",
        "        self._motion_mat = np.eye(2 * ndim, 2 * ndim)\n",
        "        for i in range(ndim):\n",
        "            self._motion_mat[i, ndim + i] = dt\n",
        "        self._update_mat = np.eye(ndim, 2 * ndim)\n",
        "\n",
        "        # Motion and observation uncertainty are chosen relative to the current\n",
        "        # state estimate. These weights control the amount of uncertainty in\n",
        "        # the model. This is a bit hacky.\n",
        "        self._std_weight_position = 1. / 20\n",
        "        self._std_weight_velocity = 1. / 160\n",
        "\n",
        "    def initiate(self, measurement):\n",
        "\n",
        "        mean_pos = measurement\n",
        "        mean_vel = np.zeros_like(mean_pos)\n",
        "        mean = np.r_[mean_pos, mean_vel]\n",
        "\n",
        "        std = [\n",
        "            2 * self._std_weight_position * measurement[3],\n",
        "            2 * self._std_weight_position * measurement[3],\n",
        "            1e-2,\n",
        "            2 * self._std_weight_position * measurement[3],\n",
        "            10 * self._std_weight_velocity * measurement[3],\n",
        "            10 * self._std_weight_velocity * measurement[3],\n",
        "            1e-5,\n",
        "            10 * self._std_weight_velocity * measurement[3]]\n",
        "        covariance = np.diag(np.square(std))\n",
        "        return mean, covariance\n",
        "\n",
        "    def predict(self, mean, covariance):\n",
        "    \n",
        "        std_pos = [\n",
        "            self._std_weight_position * mean[3],\n",
        "            self._std_weight_position * mean[3],\n",
        "            1e-2,\n",
        "            self._std_weight_position * mean[3]]\n",
        "        std_vel = [\n",
        "            self._std_weight_velocity * mean[3],\n",
        "            self._std_weight_velocity * mean[3],\n",
        "            1e-5,\n",
        "            self._std_weight_velocity * mean[3]]\n",
        "        motion_cov = np.diag(np.square(np.r_[std_pos, std_vel]))\n",
        "\n",
        "        mean = np.dot(self._motion_mat, mean)\n",
        "        covariance = np.linalg.multi_dot((\n",
        "            self._motion_mat, covariance, self._motion_mat.T)) + motion_cov\n",
        "\n",
        "        return mean, covariance\n",
        "\n",
        "    def project(self, mean, covariance):\n",
        "\n",
        "        std = [\n",
        "            self._std_weight_position * mean[3],\n",
        "            self._std_weight_position * mean[3],\n",
        "            1e-1,\n",
        "            self._std_weight_position * mean[3]]\n",
        "        innovation_cov = np.diag(np.square(std))\n",
        "\n",
        "        mean = np.dot(self._update_mat, mean)\n",
        "        covariance = np.linalg.multi_dot((\n",
        "            self._update_mat, covariance, self._update_mat.T))\n",
        "        return mean, covariance + innovation_cov\n",
        "\n",
        "    def update(self, mean, covariance, measurement):\n",
        "      \n",
        "        projected_mean, projected_cov = self.project(mean, covariance)\n",
        "\n",
        "        chol_factor, lower = scipy.linalg.cho_factor(\n",
        "            projected_cov, lower=True, check_finite=False)\n",
        "        kalman_gain = scipy.linalg.cho_solve(\n",
        "            (chol_factor, lower), np.dot(covariance, self._update_mat.T).T,\n",
        "            check_finite=False).T\n",
        "        innovation = measurement - projected_mean\n",
        "\n",
        "        new_mean = mean + np.dot(innovation, kalman_gain.T)\n",
        "        new_covariance = covariance - np.linalg.multi_dot((\n",
        "            kalman_gain, projected_cov, kalman_gain.T))\n",
        "        return new_mean, new_covariance\n",
        "\n",
        "    def gating_distance(self, mean, covariance, measurements,\n",
        "                        only_position=False):\n",
        " \n",
        "        mean, covariance = self.project(mean, covariance)\n",
        "        if only_position:\n",
        "            mean, covariance = mean[:2], covariance[:2, :2]\n",
        "            measurements = measurements[:, :2]\n",
        "\n",
        "        cholesky_factor = np.linalg.cholesky(covariance)\n",
        "        d = measurements - mean\n",
        "        z = scipy.linalg.solve_triangular(\n",
        "            cholesky_factor, d.T, lower=True, check_finite=False,\n",
        "            overwrite_b=True)\n",
        "        squared_maha = np.sum(z * z, axis=0)\n",
        "        return squared_maha"
      ]
    },
    {
      "cell_type": "markdown",
      "source": [
        "#Assignament Problem"
      ],
      "metadata": {
        "id": "Hl27NfhZBF1M"
      }
    },
    {
      "cell_type": "code",
      "source": [
        "def min_cost_matching(\n",
        "        distance_metric, max_distance, tracks, detections, track_indices=None,\n",
        "        detection_indices=None):\n",
        "\n",
        "    if track_indices is None:\n",
        "        track_indices = np.arange(len(tracks))\n",
        "    if detection_indices is None:\n",
        "        detection_indices = np.arange(len(detections))\n",
        "\n",
        "    if len(detection_indices) == 0 or len(track_indices) == 0:\n",
        "        return [], track_indices, detection_indices  # Nothing to match.\n",
        "\n",
        "    cost_matrix = distance_metric(\n",
        "        tracks, detections, track_indices, detection_indices)\n",
        "    cost_matrix[cost_matrix > max_distance] = max_distance + 1e-5\n",
        "    indices = linear_assignment(cost_matrix)\n",
        "    \n",
        "\n",
        "    matches, unmatched_tracks, unmatched_detections = [], [], []\n",
        "    for col, detection_idx in enumerate(detection_indices):\n",
        "        #print(indices,col)\n",
        "        if col not in indices[1]:\n",
        "            unmatched_detections.append(detection_idx)\n",
        "    for row, track_idx in enumerate(track_indices):\n",
        "        if row not in indices[0]:\n",
        "            unmatched_tracks.append(track_idx)\n",
        "    \n",
        "    for row, col in zip(indices[0],indices[1]):\n",
        "        track_idx = track_indices[row]\n",
        "        detection_idx = detection_indices[col]\n",
        "        if cost_matrix[row, col] > max_distance:\n",
        "            unmatched_tracks.append(track_idx)\n",
        "            unmatched_detections.append(detection_idx)\n",
        "        else:\n",
        "            matches.append((track_idx, detection_idx))\n",
        "    return matches, unmatched_tracks, unmatched_detections\n",
        "\n",
        "\n",
        "def matching_cascade(\n",
        "        distance_metric, max_distance, cascade_depth, tracks, detections,\n",
        "        track_indices=None, detection_indices=None):\n",
        "\n",
        "    if track_indices is None:\n",
        "        track_indices = list(range(len(tracks)))\n",
        "    if detection_indices is None:\n",
        "        detection_indices = list(range(len(detections)))\n",
        "\n",
        "    unmatched_detections = detection_indices\n",
        "    matches = []\n",
        "    for level in range(cascade_depth):\n",
        "        if len(unmatched_detections) == 0:  # No detections left\n",
        "            break\n",
        "\n",
        "        track_indices_l = [\n",
        "            k for k in track_indices\n",
        "            if tracks[k].time_since_update == 1 + level\n",
        "        ]\n",
        "        if len(track_indices_l) == 0:  # Nothing to match at this level\n",
        "            continue\n",
        "\n",
        "        matches_l, _, unmatched_detections = \\\n",
        "            min_cost_matching(\n",
        "                distance_metric, max_distance, tracks, detections,\n",
        "                track_indices_l, unmatched_detections)\n",
        "        matches += matches_l\n",
        "    unmatched_tracks = list(set(track_indices) - set(k for k, _ in matches))\n",
        "    return matches, unmatched_tracks, unmatched_detections\n",
        "\n",
        "\n",
        "def gate_cost_matrix(\n",
        "        kf, cost_matrix, tracks, detections, track_indices, detection_indices,\n",
        "        gated_cost=INFTY_COST, only_position=False):\n",
        "   \n",
        "    gating_dim = 2 if only_position else 4\n",
        "    gating_threshold = chi2inv95[gating_dim]\n",
        "    measurements = np.asarray(\n",
        "        [detections[i].to_xyah() for i in detection_indices])\n",
        "    for row, track_idx in enumerate(track_indices):\n",
        "        track = tracks[track_idx]\n",
        "        gating_distance = kf.gating_distance(\n",
        "            track.mean, track.covariance, measurements, only_position)\n",
        "        cost_matrix[row, gating_distance > gating_threshold] = gated_cost\n",
        "    return cost_matrix"
      ],
      "metadata": {
        "id": "0Wew31ZD-tGr"
      },
      "execution_count": 6,
      "outputs": []
    },
    {
      "cell_type": "markdown",
      "source": [
        "# Nearest"
      ],
      "metadata": {
        "id": "sB0CGSYuBKvE"
      }
    },
    {
      "cell_type": "code",
      "source": [
        "def _pdist(a, b):\n",
        "    a, b = np.asarray(a), np.asarray(b)\n",
        "    if len(a) == 0 or len(b) == 0:\n",
        "        return np.zeros((len(a), len(b)))\n",
        "    a2, b2 = np.square(a).sum(axis=1), np.square(b).sum(axis=1)\n",
        "    r2 = -2. * np.dot(a, b.T) + a2[:, None] + b2[None, :]\n",
        "    r2 = np.clip(r2, 0., float(np.inf))\n",
        "    return r2\n",
        "\n",
        "\n",
        "def _cosine_distance(a, b, data_is_normalized=False):\n",
        "    if not data_is_normalized:\n",
        "        a = np.asarray(a) / np.linalg.norm(a, axis=1, keepdims=True)\n",
        "        b = np.asarray(b) / np.linalg.norm(b, axis=1, keepdims=True)\n",
        "    return 1. - np.dot(a, b.T)\n",
        "\n",
        "\n",
        "def _nn_euclidean_distance(x, y):\n",
        "    distances = _pdist(x, y)\n",
        "    return np.maximum(0.0, distances.min(axis=0))\n",
        "\n",
        "\n",
        "def _nn_cosine_distance(x, y):\n",
        "    distances = _cosine_distance(x, y)\n",
        "    return distances.min(axis=0)\n",
        "\n",
        "\n",
        "class NearestNeighborDistanceMetric(object):\n",
        "\n",
        "\n",
        "    def __init__(self, metric, matching_threshold, budget=None):\n",
        "\n",
        "\n",
        "        if metric == \"euclidean\":\n",
        "            self._metric = _nn_euclidean_distance\n",
        "        elif metric == \"cosine\":\n",
        "            self._metric = _nn_cosine_distance\n",
        "        else:\n",
        "            raise ValueError(\n",
        "                \"Invalid metric; must be either 'euclidean' or 'cosine'\")\n",
        "        self.matching_threshold = matching_threshold\n",
        "        self.budget = budget\n",
        "        self.samples = {}\n",
        "\n",
        "    def partial_fit(self, features, targets, active_targets):\n",
        "        for feature, target in zip(features, targets):\n",
        "            self.samples.setdefault(target, []).append(feature)\n",
        "            if self.budget is not None:\n",
        "                self.samples[target] = self.samples[target][-self.budget:]\n",
        "        self.samples = {k: self.samples[k] for k in active_targets}\n",
        "\n",
        "    def distance(self, features, targets):\n",
        "        cost_matrix = np.zeros((len(targets), len(features)))\n",
        "        for i, target in enumerate(targets):\n",
        "            cost_matrix[i, :] = self._metric(self.samples[target], features)\n",
        "        return cost_matrix"
      ],
      "metadata": {
        "id": "XUTKUFZEBPn8"
      },
      "execution_count": 7,
      "outputs": []
    },
    {
      "cell_type": "code",
      "source": [
        "class Detection(object):\n",
        "\n",
        "    def __init__(self, tlwh, confidence, feature):\n",
        "        self.tlwh = np.asarray(tlwh, dtype=np.float32)\n",
        "        self.confidence = float(confidence)\n",
        "        self.feature = np.asarray(feature, dtype=np.float32)\n",
        "\n",
        "    def to_tlbr(self):\n",
        "        ret = self.tlwh.copy()\n",
        "        ret[2:] += ret[:2]\n",
        "        return ret\n",
        "\n",
        "    def to_xyah(self):\n",
        "        ret = self.tlwh.copy()\n",
        "        ret[:2] += ret[2:] / 2\n",
        "        ret[2] /= ret[3]\n",
        "        return ret"
      ],
      "metadata": {
        "id": "HRb6Arp3C3m3"
      },
      "execution_count": 8,
      "outputs": []
    },
    {
      "cell_type": "code",
      "source": [
        "def iou(bbox, candidates):\n",
        " \n",
        "    bbox_tl, bbox_br = bbox[:2], bbox[:2] + bbox[2:]\n",
        "    candidates_tl = candidates[:, :2]\n",
        "    candidates_br = candidates[:, :2] + candidates[:, 2:]\n",
        "\n",
        "    tl = np.c_[np.maximum(bbox_tl[0], candidates_tl[:, 0])[:, np.newaxis],\n",
        "               np.maximum(bbox_tl[1], candidates_tl[:, 1])[:, np.newaxis]]\n",
        "    br = np.c_[np.minimum(bbox_br[0], candidates_br[:, 0])[:, np.newaxis],\n",
        "               np.minimum(bbox_br[1], candidates_br[:, 1])[:, np.newaxis]]\n",
        "    wh = np.maximum(0., br - tl)\n",
        "\n",
        "    area_intersection = wh.prod(axis=1)\n",
        "    area_bbox = bbox[2:].prod()\n",
        "    area_candidates = candidates[:, 2:].prod(axis=1)\n",
        "    return area_intersection / (area_bbox + area_candidates - area_intersection)"
      ],
      "metadata": {
        "id": "3p9MRcsuGOgb"
      },
      "execution_count": 9,
      "outputs": []
    },
    {
      "cell_type": "code",
      "source": [
        "def iou_cost(tracks, detections, track_indices=None,\n",
        "             detection_indices=None):\n",
        "\n",
        "    if track_indices is None:\n",
        "        track_indices = np.arange(len(tracks))\n",
        "    if detection_indices is None:\n",
        "        detection_indices = np.arange(len(detections))\n",
        "\n",
        "    cost_matrix = np.zeros((len(track_indices), len(detection_indices)))\n",
        "    for row, track_idx in enumerate(track_indices):\n",
        "        if tracks[track_idx].time_since_update > 1:\n",
        "            cost_matrix[row, :] = INFTY_COST\n",
        "            continue\n",
        "\n",
        "        bbox = tracks[track_idx].to_tlwh()\n",
        "        candidates = np.asarray([detections[i].tlwh for i in detection_indices])\n",
        "        cost_matrix[row, :] = 1. - iou(bbox, candidates)\n",
        "    return cost_matrix"
      ],
      "metadata": {
        "id": "lACiKCuFGeu3"
      },
      "execution_count": 10,
      "outputs": []
    },
    {
      "cell_type": "code",
      "source": [
        "class TrackState:\n",
        "\n",
        "    Tentative = 1\n",
        "    Confirmed = 2\n",
        "    Deleted = 3\n",
        "\n",
        "\n",
        "class Track:\n",
        "\n",
        "\n",
        "    def __init__(self, mean, covariance, track_id, n_init, max_age,\n",
        "                 feature=None):\n",
        "        self.mean = mean\n",
        "        self.covariance = covariance\n",
        "        self.track_id = track_id\n",
        "        self.hits = 1\n",
        "        self.age = 1\n",
        "        self.time_since_update = 0\n",
        "\n",
        "        self.state = TrackState.Tentative\n",
        "        self.features = []\n",
        "        if feature is not None:\n",
        "            self.features.append(feature)\n",
        "\n",
        "        self._n_init = n_init\n",
        "        self._max_age = max_age\n",
        "\n",
        "    def to_tlwh(self):\n",
        "        ret = self.mean[:4].copy()\n",
        "        ret[2] *= ret[3]\n",
        "        ret[:2] -= ret[2:] / 2\n",
        "        return ret\n",
        "\n",
        "    def to_tlbr(self):\n",
        "        ret = self.to_tlwh()\n",
        "        ret[2:] = ret[:2] + ret[2:]\n",
        "        return ret\n",
        "\n",
        "    def predict(self, kf):\n",
        "        self.mean, self.covariance = kf.predict(self.mean, self.covariance)\n",
        "        self.age += 1\n",
        "        self.time_since_update += 1\n",
        "\n",
        "    def update(self, kf, detection):\n",
        "\n",
        "        self.mean, self.covariance = kf.update(\n",
        "            self.mean, self.covariance, detection.to_xyah())\n",
        "        self.features.append(detection.feature)\n",
        "\n",
        "        self.hits += 1\n",
        "        self.time_since_update = 0\n",
        "        if self.state == TrackState.Tentative and self.hits >= self._n_init:\n",
        "            self.state = TrackState.Confirmed\n",
        "\n",
        "    def mark_missed(self):\n",
        "        if self.state == TrackState.Tentative:\n",
        "            self.state = TrackState.Deleted\n",
        "        elif self.time_since_update > self._max_age:\n",
        "            self.state = TrackState.Deleted\n",
        "\n",
        "    def is_tentative(self):\n",
        "        return self.state == TrackState.Tentative\n",
        "\n",
        "    def is_confirmed(self):\n",
        "        return self.state == TrackState.Confirmed\n",
        "\n",
        "    def is_deleted(self):\n",
        "        return self.state == TrackState.Deleted"
      ],
      "metadata": {
        "id": "Rbu-3u_ZG0Yi"
      },
      "execution_count": 11,
      "outputs": []
    },
    {
      "cell_type": "code",
      "source": [
        "class Tracker:\n",
        "\n",
        "    def __init__(self, metric, max_iou_distance=0.7, max_age=30, n_init=3):\n",
        "        self.metric = metric\n",
        "        self.max_iou_distance = max_iou_distance\n",
        "        self.max_age = max_age\n",
        "        self.n_init = n_init\n",
        "\n",
        "        self.kf = KalmanFilter()\n",
        "        self.tracks = []\n",
        "        self._next_id = 1\n",
        "\n",
        "    def predict(self):\n",
        "        for track in self.tracks:\n",
        "            track.predict(self.kf)\n",
        "\n",
        "    def update(self, detections):\n",
        "        # Run matching cascade.\n",
        "        matches, unmatched_tracks, unmatched_detections = \\\n",
        "            self._match(detections)\n",
        "\n",
        "        # Update track set.\n",
        "        for track_idx, detection_idx in matches:\n",
        "            self.tracks[track_idx].update(\n",
        "                self.kf, detections[detection_idx])\n",
        "        for track_idx in unmatched_tracks:\n",
        "            self.tracks[track_idx].mark_missed()\n",
        "        for detection_idx in unmatched_detections:\n",
        "            self._initiate_track(detections[detection_idx])\n",
        "        self.tracks = [t for t in self.tracks if not t.is_deleted()]\n",
        "\n",
        "        # Update distance metric.\n",
        "        active_targets = [t.track_id for t in self.tracks if t.is_confirmed()]\n",
        "        features, targets = [], []\n",
        "        for track in self.tracks:\n",
        "            if not track.is_confirmed():\n",
        "                continue\n",
        "            features += track.features\n",
        "            targets += [track.track_id for _ in track.features]\n",
        "            track.features = []\n",
        "        self.metric.partial_fit(\n",
        "            np.asarray(features), np.asarray(targets), active_targets)\n",
        "\n",
        "    def _match(self, detections):\n",
        "\n",
        "        def gated_metric(tracks, dets, track_indices, detection_indices):\n",
        "            features = np.array([dets[i].feature for i in detection_indices])\n",
        "            targets = np.array([tracks[i].track_id for i in track_indices])\n",
        "            cost_matrix = self.metric.distance(features, targets)\n",
        "            cost_matrix = gate_cost_matrix(\n",
        "                self.kf, cost_matrix, tracks, dets, track_indices,\n",
        "                detection_indices)\n",
        "\n",
        "            return cost_matrix\n",
        "\n",
        "        # Split track set into confirmed and unconfirmed tracks.\n",
        "        confirmed_tracks = [\n",
        "            i for i, t in enumerate(self.tracks) if t.is_confirmed()]\n",
        "        unconfirmed_tracks = [\n",
        "            i for i, t in enumerate(self.tracks) if not t.is_confirmed()]\n",
        "\n",
        "        # Associate confirmed tracks using appearance features.\n",
        "        matches_a, unmatched_tracks_a, unmatched_detections = \\\n",
        "            matching_cascade(\n",
        "                gated_metric, self.metric.matching_threshold, self.max_age,\n",
        "                self.tracks, detections, confirmed_tracks)\n",
        "\n",
        "        # Associate remaining tracks together with unconfirmed tracks using IOU.\n",
        "        iou_track_candidates = unconfirmed_tracks + [\n",
        "            k for k in unmatched_tracks_a if\n",
        "            self.tracks[k].time_since_update == 1]\n",
        "        unmatched_tracks_a = [\n",
        "            k for k in unmatched_tracks_a if\n",
        "            self.tracks[k].time_since_update != 1]\n",
        "        matches_b, unmatched_tracks_b, unmatched_detections = \\\n",
        "            min_cost_matching(\n",
        "                iou_cost, self.max_iou_distance, self.tracks,\n",
        "                detections, iou_track_candidates, unmatched_detections)\n",
        "\n",
        "        matches = matches_a + matches_b\n",
        "        unmatched_tracks = list(set(unmatched_tracks_a + unmatched_tracks_b))\n",
        "        return matches, unmatched_tracks, unmatched_detections\n",
        "\n",
        "    def _initiate_track(self, detection):\n",
        "        mean, covariance = self.kf.initiate(detection.to_xyah())\n",
        "        self.tracks.append(Track(\n",
        "            mean, covariance, self._next_id, self.n_init, self.max_age,\n",
        "            detection.feature))\n",
        "        self._next_id += 1"
      ],
      "metadata": {
        "id": "N9mCzUzALZ1-"
      },
      "execution_count": 12,
      "outputs": []
    },
    {
      "cell_type": "code",
      "source": [
        "def non_max_suppression(boxes, max_bbox_overlap, scores=None):\n",
        "\n",
        "    if len(boxes) == 0:\n",
        "        return []\n",
        "\n",
        "    boxes = boxes.astype(np.float)\n",
        "    pick = []\n",
        "\n",
        "    x1 = boxes[:, 0]\n",
        "    y1 = boxes[:, 1]\n",
        "    x2 = boxes[:, 2] + boxes[:, 0]           \n",
        "    y2 = boxes[:, 3] + boxes[:, 1]\n",
        "\n",
        "    area = (x2 - x1 + 1) * (y2 - y1 + 1)\n",
        "    if scores is not None:\n",
        "        idxs = np.argsort(scores)\n",
        "    else:\n",
        "        idxs = np.argsort(y2)\n",
        "\n",
        "    while len(idxs) > 0:\n",
        "        last = len(idxs) - 1\n",
        "        i = idxs[last]\n",
        "        pick.append(i)\n",
        "\n",
        "        xx1 = np.maximum(x1[i], x1[idxs[:last]])\n",
        "        yy1 = np.maximum(y1[i], y1[idxs[:last]])\n",
        "        xx2 = np.minimum(x2[i], x2[idxs[:last]])\n",
        "        yy2 = np.minimum(y2[i], y2[idxs[:last]])\n",
        "\n",
        "        w = np.maximum(0, xx2 - xx1 + 1)\n",
        "        h = np.maximum(0, yy2 - yy1 + 1)\n",
        "\n",
        "        overlap = (w * h) / area[idxs[:last]]\n",
        "\n",
        "        idxs = np.delete(\n",
        "            idxs, np.concatenate(\n",
        "                ([last], np.where(overlap > max_bbox_overlap)[0])))\n",
        "\n",
        "    return pick"
      ],
      "metadata": {
        "id": "gJE7wrz4MP-S"
      },
      "execution_count": 13,
      "outputs": []
    },
    {
      "cell_type": "code",
      "source": [
        "\n",
        "def _run_in_batches(f: callable, data: tf.Tensor, out: str, batch_size: int):\n",
        "    data_len = len(out)\n",
        "    num_batches = int(data_len / batch_size)\n",
        "\n",
        "    s, e = 0, 0\n",
        "    for i in range(num_batches):\n",
        "        s, e = i * batch_size, (i + 1) * batch_size\n",
        "        batch_data_dict = data[s:e]\n",
        "        out[s:e] = f(batch_data_dict)\n",
        "    if e < len(out):\n",
        "        batch_data_dict = data[e:]\n",
        "        out[e:] = f(batch_data_dict)\n",
        "\n",
        "def extract_image_patch(image, bbox, patch_shape):\n",
        "\n",
        "    bbox = np.array(bbox)\n",
        "    if patch_shape is not None:\n",
        "        # correct aspect ratio to patch shape\n",
        "        target_aspect = float(patch_shape[1]) / patch_shape[0]\n",
        "        new_width = target_aspect * bbox[3]\n",
        "        bbox[0] -= (new_width - bbox[2]) / 2\n",
        "        bbox[2] = new_width\n",
        "\n",
        "    # convert to top left, bottom right\n",
        "    bbox[2:] += bbox[:2]\n",
        "    bbox = bbox#.astype(np.int)\n",
        "\n",
        "    # clip at image boundaries\n",
        "    bbox[:2] = np.maximum(0, bbox[:2])\n",
        "    bbox[2:] = np.minimum(np.asarray(image.shape[:2][::-1]) - 1, bbox[2:])\n",
        "    if np.any(bbox[:2] >= bbox[2:]):\n",
        "        return None\n",
        "    sx, sy, ex, ey = bbox\n",
        "    image = image[sy:ey, sx:ex]\n",
        "    image = cv2.resize(image, tuple(patch_shape[::-1]))\n",
        "    return image\n",
        "\n",
        "\n",
        "def wrap_frozen_graph(graph_def, inputs, outputs):\n",
        "\n",
        "    def _imports_graph_def():\n",
        "        tf.compat.v1.import_graph_def(graph_def, name=\"\")\n",
        "    wrapped_import = tf.compat.v1.wrap_function(_imports_graph_def, [])\n",
        "    import_graph = wrapped_import.graph\n",
        "    return wrapped_import.prune(\n",
        "        tf.nest.map_structure(import_graph.as_graph_element, inputs),\n",
        "        tf.nest.map_structure(import_graph.as_graph_element, outputs)\n",
        "    )\n",
        "\n",
        "class ImageEncoder(object):\n",
        "    def __init__(\n",
        "        self,\n",
        "        checkpoint_filename,\n",
        "        input_name=\"images\",\n",
        "        output_name=\"features\"\n",
        "    ):\n",
        "\n",
        "        with tf.io.gfile.GFile(checkpoint_filename, \"rb\") as file_handle:\n",
        "            graph_def = tf.compat.v1.GraphDef()\n",
        "            graph_def.ParseFromString(file_handle.read())\n",
        "        tf.import_graph_def(graph_def, name=\"net\")\n",
        "\n",
        "        self.input_var = tf.compat.v1.get_default_graph().get_tensor_by_name(\n",
        "            f\"{input_name}:0\")\n",
        "        self.output_var = tf.compat.v1.get_default_graph().get_tensor_by_name(\n",
        "            f\"{output_name}:0\")\n",
        "        assert len(self.output_var.get_shape()) == 2\n",
        "        assert len(self.input_var.get_shape()) == 4\n",
        "        self.feature_dim = self.output_var.get_shape().as_list()[-1]\n",
        "        self.image_shape = self.input_var.get_shape().as_list()[1:]\n",
        "\n",
        "        self.graph_function = wrap_frozen_graph(\n",
        "            graph_def,\n",
        "            inputs=f'{input_name}:0',\n",
        "            outputs=f'{output_name}:0'\n",
        "        )\n",
        "\n",
        "    def __call__(self, data_x, batch_size=32):\n",
        "        if isinstance(data_x, np.ndarray):\n",
        "            data_x = tf.convert_to_tensor(data_x)\n",
        "        out = np.zeros((len(data_x), self.feature_dim), np.float32)\n",
        "        _run_in_batches(\n",
        "            self.graph_function, data_x, out, batch_size\n",
        "        )\n",
        "        return out\n",
        "\n",
        "\n",
        "def create_box_encoder(model_filename, input_name=\"images\",\n",
        "                       output_name=\"features\", batch_size=32):\n",
        "    image_encoder = ImageEncoder(model_filename, input_name, output_name)\n",
        "    image_shape = image_encoder.image_shape\n",
        "\n",
        "    def encoder(image, boxes):\n",
        "        image_patches = []\n",
        "        for box in boxes:\n",
        "            patch = extract_image_patch(image, box, image_shape[:2])\n",
        "            if patch is None:\n",
        "                print(\"WARNING: Failed to extract image patch: %s.\" % str(box))\n",
        "                patch = np.random.uniform(\n",
        "                    0., 255., image_shape).astype(np.uint8)\n",
        "            image_patches.append(patch)\n",
        "        image_patches = np.asarray(image_patches)\n",
        "        return image_encoder(image_patches, batch_size)\n",
        "\n",
        "    return encoder\n",
        "\n",
        "\n",
        "def generate_detections(encoder, mot_dir, output_dir, detection_dir=None):\n",
        "\n",
        "    if detection_dir is None:\n",
        "        detection_dir = mot_dir\n",
        "    try:\n",
        "        os.makedirs(output_dir)\n",
        "    except OSError as exception:\n",
        "        if exception.errno == errno.EEXIST and os.path.isdir(output_dir):\n",
        "            pass\n",
        "        else:\n",
        "            raise ValueError(\n",
        "                \"Failed to created output directory '%s'\" % output_dir)\n",
        "\n",
        "    for sequence in os.listdir(mot_dir):\n",
        "        print(\"Processing %s\" % sequence)\n",
        "        sequence_dir = os.path.join(mot_dir, sequence)\n",
        "\n",
        "        image_dir = os.path.join(sequence_dir, \"img1\")\n",
        "        image_filenames = {\n",
        "            int(os.path.splitext(f)[0]): os.path.join(image_dir, f)\n",
        "            for f in os.listdir(image_dir)}\n",
        "\n",
        "        detection_file = os.path.join(\n",
        "            detection_dir, sequence, \"det/det.txt\")\n",
        "        detections_in = np.loadtxt(detection_file, delimiter=',')\n",
        "        detections_out = []\n",
        "\n",
        "        frame_indices = detections_in[:, 0].astype(np.int)\n",
        "        min_frame_idx = frame_indices.astype(np.int).min()\n",
        "        max_frame_idx = frame_indices.astype(np.int).max()\n",
        "        for frame_idx in range(min_frame_idx, max_frame_idx + 1):\n",
        "            print(\"Frame %05d/%05d\" % (frame_idx, max_frame_idx))\n",
        "            mask = frame_indices == frame_idx\n",
        "            rows = detections_in[mask]\n",
        "\n",
        "            if frame_idx not in image_filenames:\n",
        "                print(\"WARNING could not find image for frame %d\" % frame_idx)\n",
        "                continue\n",
        "            bgr_image = cv2.imread(\n",
        "                image_filenames[frame_idx], cv2.IMREAD_COLOR)\n",
        "            features = encoder(bgr_image, rows[:, 2:6].copy())\n",
        "            detections_out += [np.r_[(row, feature)] for row, feature\n",
        "                               in zip(rows, features)]\n",
        "\n",
        "        output_filename = os.path.join(output_dir, \"%s.npy\" % sequence)\n",
        "        np.save(\n",
        "            output_filename, np.asarray(detections_out), allow_pickle=False)\n",
        "\n",
        "\n",
        "def parse_args():\n",
        "    \"\"\"Parse command line arguments.\n",
        "    \"\"\"\n",
        "    parser = argparse.ArgumentParser(description=\"Re-ID feature extractor\")\n",
        "    parser.add_argument(\n",
        "        \"--model\",\n",
        "        default=\"resources/networks/mars-small128.pb\",\n",
        "        help=\"Path to freezed inference graph protobuf.\")\n",
        "    parser.add_argument(\n",
        "        \"--mot_dir\", help=\"Path to MOTChallenge directory (train or test)\",\n",
        "        required=True)\n",
        "    parser.add_argument(\n",
        "        \"--detection_dir\", help=\"Path to custom detections. Defaults to \"\n",
        "        \"standard MOT detections Directory structure should be the default \"\n",
        "        \"MOTChallenge structure: [sequence]/det/det.txt\", default=None)\n",
        "    parser.add_argument(\n",
        "        \"--output_dir\", help=\"Output directory. Will be created if it does not\"\n",
        "        \" exist.\", default=\"detections\")\n",
        "    return parser.parse_args()"
      ],
      "metadata": {
        "id": "C-3n1UQ5qlGY"
      },
      "execution_count": 14,
      "outputs": []
    },
    {
      "cell_type": "code",
      "source": [
        "class DeepSORT:\n",
        "    tracker = None\n",
        "    encoder = None\n",
        "    tracks = None\n",
        "\n",
        "    def __init__(self):\n",
        "        max_cosine_distance = 0.4\n",
        "        nn_budget = None\n",
        "\n",
        "        encoder_model_filename = 'mars-small128.pb'\n",
        "\n",
        "        metric = NearestNeighborDistanceMetric(\"cosine\", max_cosine_distance, nn_budget)\n",
        "        self.tracker = Tracker(metric)\n",
        "        self.encoder = create_box_encoder(encoder_model_filename, batch_size=1)\n",
        "\n",
        "    def update(self, frame, detections):\n",
        "\n",
        "        bboxes = np.asarray([d[:-1] for d in detections])\n",
        "        bboxes[:, 2:] = bboxes[:, 2:] - bboxes[:, 0:2]\n",
        "        scores = [d[-1] for d in detections]\n",
        "\n",
        "        features = self.encoder(frame, bboxes)\n",
        "\n",
        "        dets = []\n",
        "        for bbox_id, bbox in enumerate(bboxes):\n",
        "            dets.append(Detection(bbox, scores[bbox_id], features[bbox_id]))\n",
        "\n",
        "        self.tracker.predict()\n",
        "        self.tracker.update(dets)\n",
        "        self.update_tracks()\n",
        "\n",
        "    def update_tracks(self):\n",
        "        tracks = []\n",
        "        for track in self.tracker.tracks:\n",
        "            if not track.is_confirmed() or track.time_since_update > 1:\n",
        "                continue\n",
        "            bbox = track.to_tlbr()\n",
        "\n",
        "            id = track.track_id\n",
        "\n",
        "\n",
        "            tracks.append(TrackDS(id, bbox))\n",
        "\n",
        "        self.tracks = tracks\n",
        "\n",
        "\n",
        "class TrackDS:\n",
        "    track_id = None\n",
        "    bbox = None\n",
        "\n",
        "    def __init__(self, id, bbox):\n",
        "        self.track_id = id\n",
        "        self.bbox = bbox"
      ],
      "metadata": {
        "id": "3MCplVJIISsX"
      },
      "execution_count": 15,
      "outputs": []
    },
    {
      "cell_type": "markdown",
      "source": [
        "#Main"
      ],
      "metadata": {
        "id": "KF-abe9Wcf3e"
      }
    },
    {
      "cell_type": "code",
      "source": [
        "model = YOLO(\"yolov8n.pt\")\n",
        "tracker = DeepSORT()\n",
        "colors = [(random.randint(0, 255), random.randint(0, 255), \n",
        "           random.randint(0, 255)) for j in range(10)]\n",
        "\n",
        "detection_threshold = 0.49254\n",
        "incap  = [\"v1.mp4\",\"v2.mp4\",\"v3.mp4\",\"v4.mp4\"]\n",
        "outcap = [\"ov1.mp4\",\"ov2.mp4\",\"ov3.mp4\",\"ov4.mp4\"]\n",
        "cap = cv2.VideoCapture(incap[3])\n",
        "width  = int(cap.get(cv2.CAP_PROP_FRAME_WIDTH))  \n",
        "height = int(cap.get(cv2.CAP_PROP_FRAME_HEIGHT))\n",
        "length = int(cap.get(cv2.CAP_PROP_FRAME_COUNT))\n",
        "# Define the codec and create VideoWriter object\n",
        "fourcc = cv2.VideoWriter_fourcc(*'MP4V') #codec\n",
        "out = cv2.VideoWriter(outcap[3], fourcc, 20.0, (width,  height))\n",
        "counter=0\n",
        "ret, frame = cap.read()\n",
        "while cap.isOpened():\n",
        "    results = model(frame)\n",
        "\n",
        "    for result in results:\n",
        "        detections = []\n",
        "        for r in result.boxes.data.tolist():\n",
        "            x1, y1, x2, y2, score, class_id = r\n",
        "            x1 = int(x1)\n",
        "            x2 = int(x2)\n",
        "            y1 = int(y1)\n",
        "            y2 = int(y2)\n",
        "            class_id = int(class_id)\n",
        "            if score > detection_threshold:\n",
        "                detections.append([x1, y1, x2, y2, score])\n",
        "        tracker.update(cv2.cvtColor(frame, cv2.COLOR_BGR2RGB), detections)\n",
        "\n",
        "        for track in tracker.tracks:\n",
        "            bbox = track.bbox\n",
        "            x1, y1, x2, y2 = bbox\n",
        "            track_id = track.track_id\n",
        "\n",
        "            frame = cv2.rectangle(frame, (int(x1), int(y1)), (int(x2), int(y2)), (colors[track_id % len(colors)]), 3)\n",
        "            name = \"Object Id: \"+str(track_id)\n",
        "            frame = cv2.rectangle(frame, (int(x1), int(y1-30)), (int(x1)+(len(name))*17,\n",
        "                                                               int(y1)), (colors[track_id % len(colors)]), -1)\n",
        "            frame = cv2.putText(frame, name, (int(x1), int(y1-10)), 0, 0.75,\n",
        "                        (255, 255, 255), 2)\n",
        "\n",
        "    out.write(frame) \n",
        "    ret, frame = cap.read()\n",
        "    counter+=1\n",
        "    print(\"Progress: \",counter,\"/\",length)\n",
        "    if not ret:\n",
        "        print(\"Fineshed ...\")\n",
        "        break\n",
        "\n",
        "cap.release()\n",
        "out.release()\n",
        "cv2.destroyAllWindows()"
      ],
      "metadata": {
        "colab": {
          "base_uri": "https://localhost:8080/"
        },
        "id": "xtI9qL5q4CM5",
        "outputId": "88285740-f097-4892-9e8a-52a3179e2071"
      },
      "execution_count": 21,
      "outputs": [
        {
          "output_type": "stream",
          "name": "stderr",
          "text": [
            "\n",
            "0: 384x640 35 persons, 2 birds, 112.8ms\n",
            "Speed: 1.9ms preprocess, 112.8ms inference, 1.0ms postprocess per image at shape (1, 3, 640, 640)\n",
            "\n",
            "0: 384x640 34 persons, 3 birds, 104.4ms\n",
            "Speed: 1.8ms preprocess, 104.4ms inference, 1.1ms postprocess per image at shape (1, 3, 640, 640)\n"
          ]
        },
        {
          "output_type": "stream",
          "name": "stdout",
          "text": [
            "Progress:  1 / 341\n"
          ]
        },
        {
          "output_type": "stream",
          "name": "stderr",
          "text": [
            "\n",
            "0: 384x640 35 persons, 3 birds, 102.4ms\n",
            "Speed: 1.7ms preprocess, 102.4ms inference, 0.9ms postprocess per image at shape (1, 3, 640, 640)\n"
          ]
        },
        {
          "output_type": "stream",
          "name": "stdout",
          "text": [
            "Progress:  2 / 341\n"
          ]
        },
        {
          "output_type": "stream",
          "name": "stderr",
          "text": [
            "\n",
            "0: 384x640 36 persons, 2 birds, 102.4ms\n",
            "Speed: 1.8ms preprocess, 102.4ms inference, 1.2ms postprocess per image at shape (1, 3, 640, 640)\n"
          ]
        },
        {
          "output_type": "stream",
          "name": "stdout",
          "text": [
            "Progress:  3 / 341\n"
          ]
        },
        {
          "output_type": "stream",
          "name": "stderr",
          "text": [
            "\n",
            "0: 384x640 37 persons, 2 birds, 122.9ms\n",
            "Speed: 1.7ms preprocess, 122.9ms inference, 0.9ms postprocess per image at shape (1, 3, 640, 640)\n"
          ]
        },
        {
          "output_type": "stream",
          "name": "stdout",
          "text": [
            "Progress:  4 / 341\n"
          ]
        },
        {
          "output_type": "stream",
          "name": "stderr",
          "text": [
            "\n",
            "0: 384x640 37 persons, 2 birds, 127.1ms\n",
            "Speed: 1.8ms preprocess, 127.1ms inference, 0.9ms postprocess per image at shape (1, 3, 640, 640)\n"
          ]
        },
        {
          "output_type": "stream",
          "name": "stdout",
          "text": [
            "Progress:  5 / 341\n"
          ]
        },
        {
          "output_type": "stream",
          "name": "stderr",
          "text": [
            "\n",
            "0: 384x640 35 persons, 3 birds, 132.5ms\n",
            "Speed: 3.7ms preprocess, 132.5ms inference, 0.9ms postprocess per image at shape (1, 3, 640, 640)\n"
          ]
        },
        {
          "output_type": "stream",
          "name": "stdout",
          "text": [
            "Progress:  6 / 341\n"
          ]
        },
        {
          "output_type": "stream",
          "name": "stderr",
          "text": [
            "\n",
            "0: 384x640 35 persons, 2 birds, 121.7ms\n",
            "Speed: 5.6ms preprocess, 121.7ms inference, 0.9ms postprocess per image at shape (1, 3, 640, 640)\n"
          ]
        },
        {
          "output_type": "stream",
          "name": "stdout",
          "text": [
            "Progress:  7 / 341\n"
          ]
        },
        {
          "output_type": "stream",
          "name": "stderr",
          "text": [
            "\n",
            "0: 384x640 34 persons, 2 birds, 119.2ms\n",
            "Speed: 1.7ms preprocess, 119.2ms inference, 0.9ms postprocess per image at shape (1, 3, 640, 640)\n"
          ]
        },
        {
          "output_type": "stream",
          "name": "stdout",
          "text": [
            "Progress:  8 / 341\n"
          ]
        },
        {
          "output_type": "stream",
          "name": "stderr",
          "text": [
            "\n",
            "0: 384x640 36 persons, 2 birds, 135.2ms\n",
            "Speed: 1.8ms preprocess, 135.2ms inference, 0.9ms postprocess per image at shape (1, 3, 640, 640)\n"
          ]
        },
        {
          "output_type": "stream",
          "name": "stdout",
          "text": [
            "Progress:  9 / 341\n"
          ]
        },
        {
          "output_type": "stream",
          "name": "stderr",
          "text": [
            "\n",
            "0: 384x640 33 persons, 2 birds, 127.9ms\n",
            "Speed: 2.6ms preprocess, 127.9ms inference, 1.0ms postprocess per image at shape (1, 3, 640, 640)\n"
          ]
        },
        {
          "output_type": "stream",
          "name": "stdout",
          "text": [
            "Progress:  10 / 341\n"
          ]
        },
        {
          "output_type": "stream",
          "name": "stderr",
          "text": [
            "\n"
          ]
        },
        {
          "output_type": "stream",
          "name": "stdout",
          "text": [
            "Progress:  11 / 341\n"
          ]
        },
        {
          "output_type": "stream",
          "name": "stderr",
          "text": [
            "0: 384x640 34 persons, 2 birds, 196.1ms\n",
            "Speed: 2.9ms preprocess, 196.1ms inference, 1.3ms postprocess per image at shape (1, 3, 640, 640)\n",
            "\n"
          ]
        },
        {
          "output_type": "stream",
          "name": "stdout",
          "text": [
            "Progress:  12 / 341\n"
          ]
        },
        {
          "output_type": "stream",
          "name": "stderr",
          "text": [
            "0: 384x640 33 persons, 2 birds, 212.2ms\n",
            "Speed: 1.7ms preprocess, 212.2ms inference, 1.2ms postprocess per image at shape (1, 3, 640, 640)\n",
            "\n",
            "0: 384x640 34 persons, 3 birds, 133.8ms\n",
            "Speed: 3.9ms preprocess, 133.8ms inference, 1.2ms postprocess per image at shape (1, 3, 640, 640)\n"
          ]
        },
        {
          "output_type": "stream",
          "name": "stdout",
          "text": [
            "Progress:  13 / 341\n"
          ]
        },
        {
          "output_type": "stream",
          "name": "stderr",
          "text": [
            "\n",
            "0: 384x640 33 persons, 4 birds, 122.2ms\n",
            "Speed: 1.8ms preprocess, 122.2ms inference, 1.0ms postprocess per image at shape (1, 3, 640, 640)\n"
          ]
        },
        {
          "output_type": "stream",
          "name": "stdout",
          "text": [
            "Progress:  14 / 341\n"
          ]
        },
        {
          "output_type": "stream",
          "name": "stderr",
          "text": [
            "\n",
            "0: 384x640 34 persons, 4 birds, 126.9ms\n",
            "Speed: 1.6ms preprocess, 126.9ms inference, 0.9ms postprocess per image at shape (1, 3, 640, 640)\n"
          ]
        },
        {
          "output_type": "stream",
          "name": "stdout",
          "text": [
            "Progress:  15 / 341\n"
          ]
        },
        {
          "output_type": "stream",
          "name": "stderr",
          "text": [
            "\n",
            "0: 384x640 33 persons, 3 birds, 139.9ms\n",
            "Speed: 3.1ms preprocess, 139.9ms inference, 1.1ms postprocess per image at shape (1, 3, 640, 640)\n"
          ]
        },
        {
          "output_type": "stream",
          "name": "stdout",
          "text": [
            "Progress:  16 / 341\n"
          ]
        },
        {
          "output_type": "stream",
          "name": "stderr",
          "text": [
            "\n",
            "0: 384x640 33 persons, 2 birds, 131.5ms\n",
            "Speed: 4.1ms preprocess, 131.5ms inference, 0.9ms postprocess per image at shape (1, 3, 640, 640)\n"
          ]
        },
        {
          "output_type": "stream",
          "name": "stdout",
          "text": [
            "Progress:  17 / 341\n"
          ]
        },
        {
          "output_type": "stream",
          "name": "stderr",
          "text": [
            "\n",
            "0: 384x640 32 persons, 2 birds, 130.1ms\n",
            "Speed: 1.9ms preprocess, 130.1ms inference, 1.0ms postprocess per image at shape (1, 3, 640, 640)\n"
          ]
        },
        {
          "output_type": "stream",
          "name": "stdout",
          "text": [
            "Progress:  18 / 341\n"
          ]
        },
        {
          "output_type": "stream",
          "name": "stderr",
          "text": [
            "\n",
            "0: 384x640 34 persons, 2 birds, 130.2ms\n",
            "Speed: 3.3ms preprocess, 130.2ms inference, 0.9ms postprocess per image at shape (1, 3, 640, 640)\n"
          ]
        },
        {
          "output_type": "stream",
          "name": "stdout",
          "text": [
            "Progress:  19 / 341\n"
          ]
        },
        {
          "output_type": "stream",
          "name": "stderr",
          "text": [
            "\n",
            "0: 384x640 31 persons, 2 birds, 1 dog, 126.6ms\n",
            "Speed: 4.6ms preprocess, 126.6ms inference, 1.0ms postprocess per image at shape (1, 3, 640, 640)\n"
          ]
        },
        {
          "output_type": "stream",
          "name": "stdout",
          "text": [
            "Progress:  20 / 341\n"
          ]
        },
        {
          "output_type": "stream",
          "name": "stderr",
          "text": [
            "\n",
            "0: 384x640 33 persons, 1 bird, 1 dog, 125.0ms\n",
            "Speed: 1.7ms preprocess, 125.0ms inference, 1.0ms postprocess per image at shape (1, 3, 640, 640)\n"
          ]
        },
        {
          "output_type": "stream",
          "name": "stdout",
          "text": [
            "Progress:  21 / 341\n"
          ]
        },
        {
          "output_type": "stream",
          "name": "stderr",
          "text": [
            "\n",
            "0: 384x640 32 persons, 1 bird, 1 dog, 126.4ms\n",
            "Speed: 2.7ms preprocess, 126.4ms inference, 1.0ms postprocess per image at shape (1, 3, 640, 640)\n"
          ]
        },
        {
          "output_type": "stream",
          "name": "stdout",
          "text": [
            "Progress:  22 / 341\n"
          ]
        },
        {
          "output_type": "stream",
          "name": "stderr",
          "text": [
            "\n",
            "0: 384x640 33 persons, 1 bird, 1 dog, 131.7ms\n",
            "Speed: 1.6ms preprocess, 131.7ms inference, 1.0ms postprocess per image at shape (1, 3, 640, 640)\n"
          ]
        },
        {
          "output_type": "stream",
          "name": "stdout",
          "text": [
            "Progress:  23 / 341\n"
          ]
        },
        {
          "output_type": "stream",
          "name": "stderr",
          "text": [
            "\n",
            "0: 384x640 33 persons, 1 bird, 1 dog, 126.6ms\n",
            "Speed: 2.9ms preprocess, 126.6ms inference, 0.9ms postprocess per image at shape (1, 3, 640, 640)\n"
          ]
        },
        {
          "output_type": "stream",
          "name": "stdout",
          "text": [
            "Progress:  24 / 341\n"
          ]
        },
        {
          "output_type": "stream",
          "name": "stderr",
          "text": [
            "\n",
            "0: 384x640 33 persons, 1 bird, 1 dog, 129.1ms\n",
            "Speed: 1.7ms preprocess, 129.1ms inference, 0.9ms postprocess per image at shape (1, 3, 640, 640)\n"
          ]
        },
        {
          "output_type": "stream",
          "name": "stdout",
          "text": [
            "Progress:  25 / 341\n"
          ]
        },
        {
          "output_type": "stream",
          "name": "stderr",
          "text": [
            "\n",
            "0: 384x640 35 persons, 1 bird, 123.9ms\n",
            "Speed: 1.6ms preprocess, 123.9ms inference, 0.9ms postprocess per image at shape (1, 3, 640, 640)\n"
          ]
        },
        {
          "output_type": "stream",
          "name": "stdout",
          "text": [
            "Progress:  26 / 341\n"
          ]
        },
        {
          "output_type": "stream",
          "name": "stderr",
          "text": [
            "\n",
            "0: 384x640 34 persons, 1 bird, 126.8ms\n",
            "Speed: 1.7ms preprocess, 126.8ms inference, 0.9ms postprocess per image at shape (1, 3, 640, 640)\n"
          ]
        },
        {
          "output_type": "stream",
          "name": "stdout",
          "text": [
            "Progress:  27 / 341\n"
          ]
        },
        {
          "output_type": "stream",
          "name": "stderr",
          "text": [
            "\n",
            "0: 384x640 34 persons, 1 bird, 129.3ms\n",
            "Speed: 1.8ms preprocess, 129.3ms inference, 2.2ms postprocess per image at shape (1, 3, 640, 640)\n"
          ]
        },
        {
          "output_type": "stream",
          "name": "stdout",
          "text": [
            "Progress:  28 / 341\n"
          ]
        },
        {
          "output_type": "stream",
          "name": "stderr",
          "text": [
            "\n",
            "0: 384x640 34 persons, 1 bird, 125.2ms\n",
            "Speed: 4.4ms preprocess, 125.2ms inference, 0.9ms postprocess per image at shape (1, 3, 640, 640)\n"
          ]
        },
        {
          "output_type": "stream",
          "name": "stdout",
          "text": [
            "Progress:  29 / 341\n"
          ]
        },
        {
          "output_type": "stream",
          "name": "stderr",
          "text": [
            "\n",
            "0: 384x640 34 persons, 1 bird, 129.1ms\n",
            "Speed: 1.8ms preprocess, 129.1ms inference, 1.0ms postprocess per image at shape (1, 3, 640, 640)\n"
          ]
        },
        {
          "output_type": "stream",
          "name": "stdout",
          "text": [
            "Progress:  30 / 341\n"
          ]
        },
        {
          "output_type": "stream",
          "name": "stderr",
          "text": [
            "\n"
          ]
        },
        {
          "output_type": "stream",
          "name": "stdout",
          "text": [
            "Progress:  31 / 341\n"
          ]
        },
        {
          "output_type": "stream",
          "name": "stderr",
          "text": [
            "0: 384x640 31 persons, 2 birds, 191.8ms\n",
            "Speed: 1.6ms preprocess, 191.8ms inference, 1.1ms postprocess per image at shape (1, 3, 640, 640)\n",
            "\n"
          ]
        },
        {
          "output_type": "stream",
          "name": "stdout",
          "text": [
            "Progress:  32 / 341\n"
          ]
        },
        {
          "output_type": "stream",
          "name": "stderr",
          "text": [
            "0: 384x640 31 persons, 2 birds, 203.6ms\n",
            "Speed: 1.8ms preprocess, 203.6ms inference, 1.1ms postprocess per image at shape (1, 3, 640, 640)\n",
            "\n",
            "0: 384x640 33 persons, 1 bird, 137.4ms\n",
            "Speed: 3.0ms preprocess, 137.4ms inference, 0.9ms postprocess per image at shape (1, 3, 640, 640)\n"
          ]
        },
        {
          "output_type": "stream",
          "name": "stdout",
          "text": [
            "Progress:  33 / 341\n"
          ]
        },
        {
          "output_type": "stream",
          "name": "stderr",
          "text": [
            "\n",
            "0: 384x640 31 persons, 2 birds, 133.7ms\n",
            "Speed: 1.8ms preprocess, 133.7ms inference, 1.0ms postprocess per image at shape (1, 3, 640, 640)\n"
          ]
        },
        {
          "output_type": "stream",
          "name": "stdout",
          "text": [
            "Progress:  34 / 341\n"
          ]
        },
        {
          "output_type": "stream",
          "name": "stderr",
          "text": [
            "\n",
            "0: 384x640 33 persons, 1 bird, 123.6ms\n",
            "Speed: 1.8ms preprocess, 123.6ms inference, 2.6ms postprocess per image at shape (1, 3, 640, 640)\n"
          ]
        },
        {
          "output_type": "stream",
          "name": "stdout",
          "text": [
            "Progress:  35 / 341\n"
          ]
        },
        {
          "output_type": "stream",
          "name": "stderr",
          "text": [
            "\n",
            "0: 384x640 32 persons, 1 bird, 131.6ms\n",
            "Speed: 6.4ms preprocess, 131.6ms inference, 0.9ms postprocess per image at shape (1, 3, 640, 640)\n"
          ]
        },
        {
          "output_type": "stream",
          "name": "stdout",
          "text": [
            "Progress:  36 / 341\n"
          ]
        },
        {
          "output_type": "stream",
          "name": "stderr",
          "text": [
            "\n",
            "0: 384x640 35 persons, 2 birds, 133.6ms\n",
            "Speed: 2.7ms preprocess, 133.6ms inference, 1.0ms postprocess per image at shape (1, 3, 640, 640)\n"
          ]
        },
        {
          "output_type": "stream",
          "name": "stdout",
          "text": [
            "Progress:  37 / 341\n"
          ]
        },
        {
          "output_type": "stream",
          "name": "stderr",
          "text": [
            "\n",
            "0: 384x640 38 persons, 1 bird, 125.1ms\n",
            "Speed: 3.9ms preprocess, 125.1ms inference, 1.0ms postprocess per image at shape (1, 3, 640, 640)\n"
          ]
        },
        {
          "output_type": "stream",
          "name": "stdout",
          "text": [
            "Progress:  38 / 341\n"
          ]
        },
        {
          "output_type": "stream",
          "name": "stderr",
          "text": [
            "\n",
            "0: 384x640 32 persons, 2 birds, 124.1ms\n",
            "Speed: 3.2ms preprocess, 124.1ms inference, 0.9ms postprocess per image at shape (1, 3, 640, 640)\n"
          ]
        },
        {
          "output_type": "stream",
          "name": "stdout",
          "text": [
            "Progress:  39 / 341\n"
          ]
        },
        {
          "output_type": "stream",
          "name": "stderr",
          "text": [
            "\n",
            "0: 384x640 32 persons, 2 birds, 130.6ms\n",
            "Speed: 1.6ms preprocess, 130.6ms inference, 1.2ms postprocess per image at shape (1, 3, 640, 640)\n"
          ]
        },
        {
          "output_type": "stream",
          "name": "stdout",
          "text": [
            "Progress:  40 / 341\n"
          ]
        },
        {
          "output_type": "stream",
          "name": "stderr",
          "text": [
            "\n",
            "0: 384x640 34 persons, 2 birds, 127.9ms\n",
            "Speed: 1.6ms preprocess, 127.9ms inference, 1.6ms postprocess per image at shape (1, 3, 640, 640)\n"
          ]
        },
        {
          "output_type": "stream",
          "name": "stdout",
          "text": [
            "Progress:  41 / 341\n"
          ]
        },
        {
          "output_type": "stream",
          "name": "stderr",
          "text": [
            "\n",
            "0: 384x640 33 persons, 2 birds, 129.4ms\n",
            "Speed: 1.6ms preprocess, 129.4ms inference, 0.9ms postprocess per image at shape (1, 3, 640, 640)\n"
          ]
        },
        {
          "output_type": "stream",
          "name": "stdout",
          "text": [
            "Progress:  42 / 341\n"
          ]
        },
        {
          "output_type": "stream",
          "name": "stderr",
          "text": [
            "\n",
            "0: 384x640 35 persons, 2 birds, 125.5ms\n",
            "Speed: 1.7ms preprocess, 125.5ms inference, 0.9ms postprocess per image at shape (1, 3, 640, 640)\n"
          ]
        },
        {
          "output_type": "stream",
          "name": "stdout",
          "text": [
            "Progress:  43 / 341\n"
          ]
        },
        {
          "output_type": "stream",
          "name": "stderr",
          "text": [
            "\n",
            "0: 384x640 35 persons, 2 birds, 139.1ms\n",
            "Speed: 2.7ms preprocess, 139.1ms inference, 0.9ms postprocess per image at shape (1, 3, 640, 640)\n"
          ]
        },
        {
          "output_type": "stream",
          "name": "stdout",
          "text": [
            "Progress:  44 / 341\n"
          ]
        },
        {
          "output_type": "stream",
          "name": "stderr",
          "text": [
            "\n",
            "0: 384x640 38 persons, 2 birds, 129.2ms\n",
            "Speed: 2.5ms preprocess, 129.2ms inference, 0.9ms postprocess per image at shape (1, 3, 640, 640)\n"
          ]
        },
        {
          "output_type": "stream",
          "name": "stdout",
          "text": [
            "Progress:  45 / 341\n"
          ]
        },
        {
          "output_type": "stream",
          "name": "stderr",
          "text": [
            "\n",
            "0: 384x640 37 persons, 1 bird, 124.0ms\n",
            "Speed: 2.9ms preprocess, 124.0ms inference, 0.9ms postprocess per image at shape (1, 3, 640, 640)\n"
          ]
        },
        {
          "output_type": "stream",
          "name": "stdout",
          "text": [
            "Progress:  46 / 341\n"
          ]
        },
        {
          "output_type": "stream",
          "name": "stderr",
          "text": [
            "\n",
            "0: 384x640 36 persons, 1 bird, 125.1ms\n",
            "Speed: 2.8ms preprocess, 125.1ms inference, 0.9ms postprocess per image at shape (1, 3, 640, 640)\n"
          ]
        },
        {
          "output_type": "stream",
          "name": "stdout",
          "text": [
            "Progress:  47 / 341\n"
          ]
        },
        {
          "output_type": "stream",
          "name": "stderr",
          "text": [
            "\n",
            "0: 384x640 37 persons, 1 bird, 1 dog, 124.6ms\n",
            "Speed: 1.8ms preprocess, 124.6ms inference, 1.0ms postprocess per image at shape (1, 3, 640, 640)\n"
          ]
        },
        {
          "output_type": "stream",
          "name": "stdout",
          "text": [
            "Progress:  48 / 341\n"
          ]
        },
        {
          "output_type": "stream",
          "name": "stderr",
          "text": [
            "\n",
            "0: 384x640 38 persons, 1 bird, 1 dog, 135.3ms\n",
            "Speed: 2.2ms preprocess, 135.3ms inference, 1.2ms postprocess per image at shape (1, 3, 640, 640)\n"
          ]
        },
        {
          "output_type": "stream",
          "name": "stdout",
          "text": [
            "Progress:  49 / 341\n"
          ]
        },
        {
          "output_type": "stream",
          "name": "stderr",
          "text": [
            "\n",
            "0: 384x640 41 persons, 1 bird, 1 dog, 126.3ms\n",
            "Speed: 1.7ms preprocess, 126.3ms inference, 1.0ms postprocess per image at shape (1, 3, 640, 640)\n"
          ]
        },
        {
          "output_type": "stream",
          "name": "stdout",
          "text": [
            "Progress:  50 / 341\n"
          ]
        },
        {
          "output_type": "stream",
          "name": "stderr",
          "text": [
            "\n",
            "0: 384x640 40 persons, 1 bird, 1 dog, 129.0ms\n",
            "Speed: 2.6ms preprocess, 129.0ms inference, 1.1ms postprocess per image at shape (1, 3, 640, 640)\n"
          ]
        },
        {
          "output_type": "stream",
          "name": "stdout",
          "text": [
            "Progress:  51 / 341\n"
          ]
        },
        {
          "output_type": "stream",
          "name": "stderr",
          "text": [
            "\n",
            "0: 384x640 37 persons, 1 bird, 1 dog, 195.6ms\n"
          ]
        },
        {
          "output_type": "stream",
          "name": "stdout",
          "text": [
            "Progress:  52 / 341\n"
          ]
        },
        {
          "output_type": "stream",
          "name": "stderr",
          "text": [
            "Speed: 1.9ms preprocess, 195.6ms inference, 1.2ms postprocess per image at shape (1, 3, 640, 640)\n",
            "\n"
          ]
        },
        {
          "output_type": "stream",
          "name": "stdout",
          "text": [
            "Progress:  53 / 341\n"
          ]
        },
        {
          "output_type": "stream",
          "name": "stderr",
          "text": [
            "0: 384x640 37 persons, 2 birds, 1 dog, 187.8ms\n",
            "Speed: 2.6ms preprocess, 187.8ms inference, 2.1ms postprocess per image at shape (1, 3, 640, 640)\n",
            "\n",
            "0: 384x640 36 persons, 1 bird, 1 dog, 134.3ms\n",
            "Speed: 1.7ms preprocess, 134.3ms inference, 1.0ms postprocess per image at shape (1, 3, 640, 640)\n"
          ]
        },
        {
          "output_type": "stream",
          "name": "stdout",
          "text": [
            "Progress:  54 / 341\n"
          ]
        },
        {
          "output_type": "stream",
          "name": "stderr",
          "text": [
            "\n",
            "0: 384x640 39 persons, 1 bird, 126.6ms\n",
            "Speed: 1.7ms preprocess, 126.6ms inference, 1.1ms postprocess per image at shape (1, 3, 640, 640)\n"
          ]
        },
        {
          "output_type": "stream",
          "name": "stdout",
          "text": [
            "Progress:  55 / 341\n"
          ]
        },
        {
          "output_type": "stream",
          "name": "stderr",
          "text": [
            "\n",
            "0: 384x640 37 persons, 1 bird, 125.3ms\n",
            "Speed: 1.7ms preprocess, 125.3ms inference, 0.9ms postprocess per image at shape (1, 3, 640, 640)\n"
          ]
        },
        {
          "output_type": "stream",
          "name": "stdout",
          "text": [
            "Progress:  56 / 341\n"
          ]
        },
        {
          "output_type": "stream",
          "name": "stderr",
          "text": [
            "\n",
            "0: 384x640 37 persons, 1 bird, 1 horse, 132.1ms\n",
            "Speed: 1.9ms preprocess, 132.1ms inference, 1.0ms postprocess per image at shape (1, 3, 640, 640)\n"
          ]
        },
        {
          "output_type": "stream",
          "name": "stdout",
          "text": [
            "Progress:  57 / 341\n"
          ]
        },
        {
          "output_type": "stream",
          "name": "stderr",
          "text": [
            "\n",
            "0: 384x640 37 persons, 1 bird, 119.7ms\n",
            "Speed: 1.8ms preprocess, 119.7ms inference, 0.9ms postprocess per image at shape (1, 3, 640, 640)\n"
          ]
        },
        {
          "output_type": "stream",
          "name": "stdout",
          "text": [
            "Progress:  58 / 341\n"
          ]
        },
        {
          "output_type": "stream",
          "name": "stderr",
          "text": [
            "\n",
            "0: 384x640 39 persons, 1 bird, 122.1ms\n",
            "Speed: 3.2ms preprocess, 122.1ms inference, 1.0ms postprocess per image at shape (1, 3, 640, 640)\n"
          ]
        },
        {
          "output_type": "stream",
          "name": "stdout",
          "text": [
            "Progress:  59 / 341\n"
          ]
        },
        {
          "output_type": "stream",
          "name": "stderr",
          "text": [
            "\n",
            "0: 384x640 36 persons, 1 bird, 128.1ms\n",
            "Speed: 2.2ms preprocess, 128.1ms inference, 1.3ms postprocess per image at shape (1, 3, 640, 640)\n"
          ]
        },
        {
          "output_type": "stream",
          "name": "stdout",
          "text": [
            "Progress:  60 / 341\n"
          ]
        },
        {
          "output_type": "stream",
          "name": "stderr",
          "text": [
            "\n",
            "0: 384x640 39 persons, 1 bird, 131.9ms\n",
            "Speed: 3.8ms preprocess, 131.9ms inference, 0.9ms postprocess per image at shape (1, 3, 640, 640)\n"
          ]
        },
        {
          "output_type": "stream",
          "name": "stdout",
          "text": [
            "Progress:  61 / 341\n"
          ]
        },
        {
          "output_type": "stream",
          "name": "stderr",
          "text": [
            "\n",
            "0: 384x640 36 persons, 119.9ms\n",
            "Speed: 3.5ms preprocess, 119.9ms inference, 0.9ms postprocess per image at shape (1, 3, 640, 640)\n"
          ]
        },
        {
          "output_type": "stream",
          "name": "stdout",
          "text": [
            "Progress:  62 / 341\n"
          ]
        },
        {
          "output_type": "stream",
          "name": "stderr",
          "text": [
            "\n",
            "0: 384x640 36 persons, 122.7ms\n",
            "Speed: 3.0ms preprocess, 122.7ms inference, 1.0ms postprocess per image at shape (1, 3, 640, 640)\n"
          ]
        },
        {
          "output_type": "stream",
          "name": "stdout",
          "text": [
            "Progress:  63 / 341\n"
          ]
        },
        {
          "output_type": "stream",
          "name": "stderr",
          "text": [
            "\n",
            "0: 384x640 37 persons, 1 bird, 131.1ms\n",
            "Speed: 1.5ms preprocess, 131.1ms inference, 0.9ms postprocess per image at shape (1, 3, 640, 640)\n"
          ]
        },
        {
          "output_type": "stream",
          "name": "stdout",
          "text": [
            "Progress:  64 / 341\n"
          ]
        },
        {
          "output_type": "stream",
          "name": "stderr",
          "text": [
            "\n",
            "0: 384x640 38 persons, 1 bird, 134.8ms\n",
            "Speed: 4.4ms preprocess, 134.8ms inference, 1.1ms postprocess per image at shape (1, 3, 640, 640)\n"
          ]
        },
        {
          "output_type": "stream",
          "name": "stdout",
          "text": [
            "Progress:  65 / 341\n"
          ]
        },
        {
          "output_type": "stream",
          "name": "stderr",
          "text": [
            "\n",
            "0: 384x640 39 persons, 1 bird, 125.8ms\n",
            "Speed: 2.9ms preprocess, 125.8ms inference, 1.0ms postprocess per image at shape (1, 3, 640, 640)\n"
          ]
        },
        {
          "output_type": "stream",
          "name": "stdout",
          "text": [
            "Progress:  66 / 341\n"
          ]
        },
        {
          "output_type": "stream",
          "name": "stderr",
          "text": [
            "\n",
            "0: 384x640 38 persons, 1 bird, 1 dog, 127.0ms\n",
            "Speed: 5.8ms preprocess, 127.0ms inference, 1.0ms postprocess per image at shape (1, 3, 640, 640)\n"
          ]
        },
        {
          "output_type": "stream",
          "name": "stdout",
          "text": [
            "Progress:  67 / 341\n"
          ]
        },
        {
          "output_type": "stream",
          "name": "stderr",
          "text": [
            "\n",
            "0: 384x640 37 persons, 1 bird, 1 dog, 130.8ms\n",
            "Speed: 1.9ms preprocess, 130.8ms inference, 0.9ms postprocess per image at shape (1, 3, 640, 640)\n"
          ]
        },
        {
          "output_type": "stream",
          "name": "stdout",
          "text": [
            "Progress:  68 / 341\n"
          ]
        },
        {
          "output_type": "stream",
          "name": "stderr",
          "text": [
            "\n",
            "0: 384x640 38 persons, 1 bird, 1 dog, 122.5ms\n",
            "Speed: 2.1ms preprocess, 122.5ms inference, 1.0ms postprocess per image at shape (1, 3, 640, 640)\n"
          ]
        },
        {
          "output_type": "stream",
          "name": "stdout",
          "text": [
            "Progress:  69 / 341\n"
          ]
        },
        {
          "output_type": "stream",
          "name": "stderr",
          "text": [
            "\n",
            "0: 384x640 38 persons, 1 bird, 124.9ms\n",
            "Speed: 3.5ms preprocess, 124.9ms inference, 0.9ms postprocess per image at shape (1, 3, 640, 640)\n"
          ]
        },
        {
          "output_type": "stream",
          "name": "stdout",
          "text": [
            "Progress:  70 / 341\n"
          ]
        },
        {
          "output_type": "stream",
          "name": "stderr",
          "text": [
            "\n"
          ]
        },
        {
          "output_type": "stream",
          "name": "stdout",
          "text": [
            "Progress:  71 / 341\n"
          ]
        },
        {
          "output_type": "stream",
          "name": "stderr",
          "text": [
            "0: 384x640 38 persons, 1 bird, 211.2ms\n",
            "Speed: 1.6ms preprocess, 211.2ms inference, 1.3ms postprocess per image at shape (1, 3, 640, 640)\n",
            "\n"
          ]
        },
        {
          "output_type": "stream",
          "name": "stdout",
          "text": [
            "Progress:  72 / 341\n"
          ]
        },
        {
          "output_type": "stream",
          "name": "stderr",
          "text": [
            "0: 384x640 39 persons, 1 bird, 192.9ms\n",
            "Speed: 2.6ms preprocess, 192.9ms inference, 1.2ms postprocess per image at shape (1, 3, 640, 640)\n",
            "\n",
            "0: 384x640 42 persons, 151.7ms\n",
            "Speed: 3.2ms preprocess, 151.7ms inference, 0.9ms postprocess per image at shape (1, 3, 640, 640)\n"
          ]
        },
        {
          "output_type": "stream",
          "name": "stdout",
          "text": [
            "Progress:  73 / 341\n"
          ]
        },
        {
          "output_type": "stream",
          "name": "stderr",
          "text": [
            "\n",
            "0: 384x640 41 persons, 134.4ms\n",
            "Speed: 2.9ms preprocess, 134.4ms inference, 0.9ms postprocess per image at shape (1, 3, 640, 640)\n"
          ]
        },
        {
          "output_type": "stream",
          "name": "stdout",
          "text": [
            "Progress:  74 / 341\n"
          ]
        },
        {
          "output_type": "stream",
          "name": "stderr",
          "text": [
            "\n",
            "0: 384x640 40 persons, 1 bird, 149.6ms\n",
            "Speed: 1.7ms preprocess, 149.6ms inference, 1.0ms postprocess per image at shape (1, 3, 640, 640)\n"
          ]
        },
        {
          "output_type": "stream",
          "name": "stdout",
          "text": [
            "Progress:  75 / 341\n"
          ]
        },
        {
          "output_type": "stream",
          "name": "stderr",
          "text": [
            "\n",
            "0: 384x640 41 persons, 1 bird, 139.2ms\n",
            "Speed: 3.4ms preprocess, 139.2ms inference, 1.1ms postprocess per image at shape (1, 3, 640, 640)\n"
          ]
        },
        {
          "output_type": "stream",
          "name": "stdout",
          "text": [
            "Progress:  76 / 341\n"
          ]
        },
        {
          "output_type": "stream",
          "name": "stderr",
          "text": [
            "\n",
            "0: 384x640 39 persons, 1 bird, 131.1ms\n",
            "Speed: 1.7ms preprocess, 131.1ms inference, 1.1ms postprocess per image at shape (1, 3, 640, 640)\n"
          ]
        },
        {
          "output_type": "stream",
          "name": "stdout",
          "text": [
            "Progress:  77 / 341\n"
          ]
        },
        {
          "output_type": "stream",
          "name": "stderr",
          "text": [
            "\n",
            "0: 384x640 40 persons, 3 birds, 141.4ms\n",
            "Speed: 1.8ms preprocess, 141.4ms inference, 1.0ms postprocess per image at shape (1, 3, 640, 640)\n"
          ]
        },
        {
          "output_type": "stream",
          "name": "stdout",
          "text": [
            "Progress:  78 / 341\n"
          ]
        },
        {
          "output_type": "stream",
          "name": "stderr",
          "text": [
            "\n",
            "0: 384x640 38 persons, 3 birds, 158.4ms\n",
            "Speed: 3.6ms preprocess, 158.4ms inference, 1.0ms postprocess per image at shape (1, 3, 640, 640)\n"
          ]
        },
        {
          "output_type": "stream",
          "name": "stdout",
          "text": [
            "Progress:  79 / 341\n"
          ]
        },
        {
          "output_type": "stream",
          "name": "stderr",
          "text": [
            "\n",
            "0: 384x640 37 persons, 3 birds, 124.2ms\n",
            "Speed: 3.5ms preprocess, 124.2ms inference, 1.0ms postprocess per image at shape (1, 3, 640, 640)\n"
          ]
        },
        {
          "output_type": "stream",
          "name": "stdout",
          "text": [
            "Progress:  80 / 341\n"
          ]
        },
        {
          "output_type": "stream",
          "name": "stderr",
          "text": [
            "\n",
            "0: 384x640 36 persons, 3 birds, 132.0ms\n",
            "Speed: 2.6ms preprocess, 132.0ms inference, 1.0ms postprocess per image at shape (1, 3, 640, 640)\n"
          ]
        },
        {
          "output_type": "stream",
          "name": "stdout",
          "text": [
            "Progress:  81 / 341\n"
          ]
        },
        {
          "output_type": "stream",
          "name": "stderr",
          "text": [
            "\n",
            "0: 384x640 39 persons, 1 bird, 123.1ms\n",
            "Speed: 3.3ms preprocess, 123.1ms inference, 0.9ms postprocess per image at shape (1, 3, 640, 640)\n"
          ]
        },
        {
          "output_type": "stream",
          "name": "stdout",
          "text": [
            "Progress:  82 / 341\n"
          ]
        },
        {
          "output_type": "stream",
          "name": "stderr",
          "text": [
            "\n",
            "0: 384x640 40 persons, 127.0ms\n",
            "Speed: 1.8ms preprocess, 127.0ms inference, 0.9ms postprocess per image at shape (1, 3, 640, 640)\n"
          ]
        },
        {
          "output_type": "stream",
          "name": "stdout",
          "text": [
            "Progress:  83 / 341\n"
          ]
        },
        {
          "output_type": "stream",
          "name": "stderr",
          "text": [
            "\n",
            "0: 384x640 41 persons, 2 birds, 133.2ms\n",
            "Speed: 2.4ms preprocess, 133.2ms inference, 1.4ms postprocess per image at shape (1, 3, 640, 640)\n"
          ]
        },
        {
          "output_type": "stream",
          "name": "stdout",
          "text": [
            "Progress:  84 / 341\n"
          ]
        },
        {
          "output_type": "stream",
          "name": "stderr",
          "text": [
            "\n",
            "0: 384x640 40 persons, 1 horse, 127.5ms\n",
            "Speed: 2.4ms preprocess, 127.5ms inference, 1.1ms postprocess per image at shape (1, 3, 640, 640)\n"
          ]
        },
        {
          "output_type": "stream",
          "name": "stdout",
          "text": [
            "Progress:  85 / 341\n"
          ]
        },
        {
          "output_type": "stream",
          "name": "stderr",
          "text": [
            "\n",
            "0: 384x640 38 persons, 134.5ms\n",
            "Speed: 10.7ms preprocess, 134.5ms inference, 1.1ms postprocess per image at shape (1, 3, 640, 640)\n"
          ]
        },
        {
          "output_type": "stream",
          "name": "stdout",
          "text": [
            "Progress:  86 / 341\n"
          ]
        },
        {
          "output_type": "stream",
          "name": "stderr",
          "text": [
            "\n",
            "0: 384x640 36 persons, 158.0ms\n",
            "Speed: 8.5ms preprocess, 158.0ms inference, 1.0ms postprocess per image at shape (1, 3, 640, 640)\n"
          ]
        },
        {
          "output_type": "stream",
          "name": "stdout",
          "text": [
            "Progress:  87 / 341\n"
          ]
        },
        {
          "output_type": "stream",
          "name": "stderr",
          "text": [
            "\n",
            "0: 384x640 37 persons, 143.4ms\n",
            "Speed: 5.4ms preprocess, 143.4ms inference, 0.9ms postprocess per image at shape (1, 3, 640, 640)\n"
          ]
        },
        {
          "output_type": "stream",
          "name": "stdout",
          "text": [
            "Progress:  88 / 341\n"
          ]
        },
        {
          "output_type": "stream",
          "name": "stderr",
          "text": [
            "\n",
            "0: 384x640 37 persons, 117.5ms\n",
            "Speed: 2.0ms preprocess, 117.5ms inference, 0.9ms postprocess per image at shape (1, 3, 640, 640)\n"
          ]
        },
        {
          "output_type": "stream",
          "name": "stdout",
          "text": [
            "Progress:  89 / 341\n"
          ]
        },
        {
          "output_type": "stream",
          "name": "stderr",
          "text": [
            "\n"
          ]
        },
        {
          "output_type": "stream",
          "name": "stdout",
          "text": [
            "Progress:  90 / 341\n"
          ]
        },
        {
          "output_type": "stream",
          "name": "stderr",
          "text": [
            "0: 384x640 41 persons, 213.3ms\n",
            "Speed: 1.9ms preprocess, 213.3ms inference, 1.2ms postprocess per image at shape (1, 3, 640, 640)\n",
            "\n"
          ]
        },
        {
          "output_type": "stream",
          "name": "stdout",
          "text": [
            "Progress:  91 / 341\n"
          ]
        },
        {
          "output_type": "stream",
          "name": "stderr",
          "text": [
            "0: 384x640 39 persons, 199.8ms\n",
            "Speed: 4.1ms preprocess, 199.8ms inference, 1.2ms postprocess per image at shape (1, 3, 640, 640)\n",
            "\n",
            "0: 384x640 39 persons, 138.2ms\n",
            "Speed: 1.7ms preprocess, 138.2ms inference, 0.9ms postprocess per image at shape (1, 3, 640, 640)\n"
          ]
        },
        {
          "output_type": "stream",
          "name": "stdout",
          "text": [
            "Progress:  92 / 341\n"
          ]
        },
        {
          "output_type": "stream",
          "name": "stderr",
          "text": [
            "\n",
            "0: 384x640 38 persons, 1 backpack, 152.7ms\n",
            "Speed: 2.9ms preprocess, 152.7ms inference, 0.9ms postprocess per image at shape (1, 3, 640, 640)\n"
          ]
        },
        {
          "output_type": "stream",
          "name": "stdout",
          "text": [
            "Progress:  93 / 341\n"
          ]
        },
        {
          "output_type": "stream",
          "name": "stderr",
          "text": [
            "\n",
            "0: 384x640 36 persons, 127.7ms\n",
            "Speed: 5.7ms preprocess, 127.7ms inference, 1.0ms postprocess per image at shape (1, 3, 640, 640)\n"
          ]
        },
        {
          "output_type": "stream",
          "name": "stdout",
          "text": [
            "Progress:  94 / 341\n"
          ]
        },
        {
          "output_type": "stream",
          "name": "stderr",
          "text": [
            "\n",
            "0: 384x640 36 persons, 150.3ms\n",
            "Speed: 7.8ms preprocess, 150.3ms inference, 0.9ms postprocess per image at shape (1, 3, 640, 640)\n"
          ]
        },
        {
          "output_type": "stream",
          "name": "stdout",
          "text": [
            "Progress:  95 / 341\n"
          ]
        },
        {
          "output_type": "stream",
          "name": "stderr",
          "text": [
            "\n",
            "0: 384x640 36 persons, 146.2ms\n",
            "Speed: 3.8ms preprocess, 146.2ms inference, 0.9ms postprocess per image at shape (1, 3, 640, 640)\n"
          ]
        },
        {
          "output_type": "stream",
          "name": "stdout",
          "text": [
            "Progress:  96 / 341\n"
          ]
        },
        {
          "output_type": "stream",
          "name": "stderr",
          "text": [
            "\n",
            "0: 384x640 36 persons, 1 dog, 141.3ms\n",
            "Speed: 7.1ms preprocess, 141.3ms inference, 1.0ms postprocess per image at shape (1, 3, 640, 640)\n"
          ]
        },
        {
          "output_type": "stream",
          "name": "stdout",
          "text": [
            "Progress:  97 / 341\n"
          ]
        },
        {
          "output_type": "stream",
          "name": "stderr",
          "text": [
            "\n",
            "0: 384x640 37 persons, 145.7ms\n",
            "Speed: 1.7ms preprocess, 145.7ms inference, 1.0ms postprocess per image at shape (1, 3, 640, 640)\n"
          ]
        },
        {
          "output_type": "stream",
          "name": "stdout",
          "text": [
            "Progress:  98 / 341\n"
          ]
        },
        {
          "output_type": "stream",
          "name": "stderr",
          "text": [
            "\n",
            "0: 384x640 37 persons, 130.5ms\n",
            "Speed: 2.2ms preprocess, 130.5ms inference, 1.0ms postprocess per image at shape (1, 3, 640, 640)\n"
          ]
        },
        {
          "output_type": "stream",
          "name": "stdout",
          "text": [
            "Progress:  99 / 341\n"
          ]
        },
        {
          "output_type": "stream",
          "name": "stderr",
          "text": [
            "\n",
            "0: 384x640 37 persons, 1 backpack, 167.2ms\n",
            "Speed: 6.3ms preprocess, 167.2ms inference, 1.0ms postprocess per image at shape (1, 3, 640, 640)\n"
          ]
        },
        {
          "output_type": "stream",
          "name": "stdout",
          "text": [
            "Progress:  100 / 341\n"
          ]
        },
        {
          "output_type": "stream",
          "name": "stderr",
          "text": [
            "\n",
            "0: 384x640 36 persons, 2 backpacks, 158.7ms\n",
            "Speed: 2.1ms preprocess, 158.7ms inference, 1.1ms postprocess per image at shape (1, 3, 640, 640)\n"
          ]
        },
        {
          "output_type": "stream",
          "name": "stdout",
          "text": [
            "Progress:  101 / 341\n"
          ]
        },
        {
          "output_type": "stream",
          "name": "stderr",
          "text": [
            "\n",
            "0: 384x640 37 persons, 1 bird, 1 backpack, 152.5ms\n",
            "Speed: 1.7ms preprocess, 152.5ms inference, 1.0ms postprocess per image at shape (1, 3, 640, 640)\n"
          ]
        },
        {
          "output_type": "stream",
          "name": "stdout",
          "text": [
            "Progress:  102 / 341\n"
          ]
        },
        {
          "output_type": "stream",
          "name": "stderr",
          "text": [
            "\n",
            "0: 384x640 36 persons, 1 bird, 156.0ms\n",
            "Speed: 6.2ms preprocess, 156.0ms inference, 1.1ms postprocess per image at shape (1, 3, 640, 640)\n"
          ]
        },
        {
          "output_type": "stream",
          "name": "stdout",
          "text": [
            "Progress:  103 / 341\n"
          ]
        },
        {
          "output_type": "stream",
          "name": "stderr",
          "text": [
            "\n",
            "0: 384x640 36 persons, 1 bird, 147.4ms\n",
            "Speed: 1.8ms preprocess, 147.4ms inference, 1.0ms postprocess per image at shape (1, 3, 640, 640)\n"
          ]
        },
        {
          "output_type": "stream",
          "name": "stdout",
          "text": [
            "Progress:  104 / 341\n"
          ]
        },
        {
          "output_type": "stream",
          "name": "stderr",
          "text": [
            "\n",
            "0: 384x640 35 persons, 152.0ms\n",
            "Speed: 3.8ms preprocess, 152.0ms inference, 1.0ms postprocess per image at shape (1, 3, 640, 640)\n"
          ]
        },
        {
          "output_type": "stream",
          "name": "stdout",
          "text": [
            "Progress:  105 / 341\n"
          ]
        },
        {
          "output_type": "stream",
          "name": "stderr",
          "text": [
            "\n",
            "0: 384x640 35 persons, 1 bird, 154.8ms\n",
            "Speed: 5.9ms preprocess, 154.8ms inference, 1.0ms postprocess per image at shape (1, 3, 640, 640)\n"
          ]
        },
        {
          "output_type": "stream",
          "name": "stdout",
          "text": [
            "Progress:  106 / 341\n"
          ]
        },
        {
          "output_type": "stream",
          "name": "stderr",
          "text": [
            "\n",
            "0: 384x640 35 persons, 147.2ms\n",
            "Speed: 2.2ms preprocess, 147.2ms inference, 0.9ms postprocess per image at shape (1, 3, 640, 640)\n"
          ]
        },
        {
          "output_type": "stream",
          "name": "stdout",
          "text": [
            "Progress:  107 / 341\n"
          ]
        },
        {
          "output_type": "stream",
          "name": "stderr",
          "text": [
            "\n",
            "0: 384x640 34 persons, 136.3ms\n",
            "Speed: 4.7ms preprocess, 136.3ms inference, 0.9ms postprocess per image at shape (1, 3, 640, 640)\n"
          ]
        },
        {
          "output_type": "stream",
          "name": "stdout",
          "text": [
            "Progress:  108 / 341\n"
          ]
        },
        {
          "output_type": "stream",
          "name": "stderr",
          "text": [
            "\n"
          ]
        },
        {
          "output_type": "stream",
          "name": "stdout",
          "text": [
            "Progress:  109 / 341\n"
          ]
        },
        {
          "output_type": "stream",
          "name": "stderr",
          "text": [
            "0: 384x640 33 persons, 185.4ms\n",
            "Speed: 4.8ms preprocess, 185.4ms inference, 1.1ms postprocess per image at shape (1, 3, 640, 640)\n",
            "\n"
          ]
        },
        {
          "output_type": "stream",
          "name": "stdout",
          "text": [
            "Progress:  110 / 341\n"
          ]
        },
        {
          "output_type": "stream",
          "name": "stderr",
          "text": [
            "0: 384x640 33 persons, 1 bird, 198.0ms\n",
            "Speed: 1.9ms preprocess, 198.0ms inference, 1.4ms postprocess per image at shape (1, 3, 640, 640)\n",
            "\n",
            "0: 384x640 33 persons, 1 handbag, 156.4ms\n",
            "Speed: 3.5ms preprocess, 156.4ms inference, 0.9ms postprocess per image at shape (1, 3, 640, 640)\n"
          ]
        },
        {
          "output_type": "stream",
          "name": "stdout",
          "text": [
            "Progress:  111 / 341\n"
          ]
        },
        {
          "output_type": "stream",
          "name": "stderr",
          "text": [
            "\n",
            "0: 384x640 33 persons, 1 dog, 148.3ms\n",
            "Speed: 2.9ms preprocess, 148.3ms inference, 0.9ms postprocess per image at shape (1, 3, 640, 640)\n"
          ]
        },
        {
          "output_type": "stream",
          "name": "stdout",
          "text": [
            "Progress:  112 / 341\n"
          ]
        },
        {
          "output_type": "stream",
          "name": "stderr",
          "text": [
            "\n",
            "0: 384x640 33 persons, 138.8ms\n",
            "Speed: 5.2ms preprocess, 138.8ms inference, 1.1ms postprocess per image at shape (1, 3, 640, 640)\n"
          ]
        },
        {
          "output_type": "stream",
          "name": "stdout",
          "text": [
            "Progress:  113 / 341\n"
          ]
        },
        {
          "output_type": "stream",
          "name": "stderr",
          "text": [
            "\n",
            "0: 384x640 33 persons, 153.3ms\n",
            "Speed: 1.7ms preprocess, 153.3ms inference, 1.0ms postprocess per image at shape (1, 3, 640, 640)\n"
          ]
        },
        {
          "output_type": "stream",
          "name": "stdout",
          "text": [
            "Progress:  114 / 341\n"
          ]
        },
        {
          "output_type": "stream",
          "name": "stderr",
          "text": [
            "\n",
            "0: 384x640 31 persons, 121.1ms\n",
            "Speed: 3.5ms preprocess, 121.1ms inference, 0.9ms postprocess per image at shape (1, 3, 640, 640)\n"
          ]
        },
        {
          "output_type": "stream",
          "name": "stdout",
          "text": [
            "Progress:  115 / 341\n"
          ]
        },
        {
          "output_type": "stream",
          "name": "stderr",
          "text": [
            "\n",
            "0: 384x640 30 persons, 143.6ms\n",
            "Speed: 1.6ms preprocess, 143.6ms inference, 0.9ms postprocess per image at shape (1, 3, 640, 640)\n"
          ]
        },
        {
          "output_type": "stream",
          "name": "stdout",
          "text": [
            "Progress:  116 / 341\n"
          ]
        },
        {
          "output_type": "stream",
          "name": "stderr",
          "text": [
            "\n",
            "0: 384x640 29 persons, 133.3ms\n",
            "Speed: 1.7ms preprocess, 133.3ms inference, 1.0ms postprocess per image at shape (1, 3, 640, 640)\n"
          ]
        },
        {
          "output_type": "stream",
          "name": "stdout",
          "text": [
            "Progress:  117 / 341\n"
          ]
        },
        {
          "output_type": "stream",
          "name": "stderr",
          "text": [
            "\n",
            "0: 384x640 29 persons, 1 bird, 151.8ms\n",
            "Speed: 1.6ms preprocess, 151.8ms inference, 1.1ms postprocess per image at shape (1, 3, 640, 640)\n"
          ]
        },
        {
          "output_type": "stream",
          "name": "stdout",
          "text": [
            "Progress:  118 / 341\n"
          ]
        },
        {
          "output_type": "stream",
          "name": "stderr",
          "text": [
            "\n",
            "0: 384x640 30 persons, 1 bird, 157.9ms\n",
            "Speed: 2.3ms preprocess, 157.9ms inference, 1.0ms postprocess per image at shape (1, 3, 640, 640)\n"
          ]
        },
        {
          "output_type": "stream",
          "name": "stdout",
          "text": [
            "Progress:  119 / 341\n"
          ]
        },
        {
          "output_type": "stream",
          "name": "stderr",
          "text": [
            "\n",
            "0: 384x640 30 persons, 1 dog, 149.9ms\n",
            "Speed: 7.8ms preprocess, 149.9ms inference, 1.0ms postprocess per image at shape (1, 3, 640, 640)\n"
          ]
        },
        {
          "output_type": "stream",
          "name": "stdout",
          "text": [
            "Progress:  120 / 341\n"
          ]
        },
        {
          "output_type": "stream",
          "name": "stderr",
          "text": [
            "\n",
            "0: 384x640 34 persons, 1 bird, 122.8ms\n",
            "Speed: 2.2ms preprocess, 122.8ms inference, 1.0ms postprocess per image at shape (1, 3, 640, 640)\n"
          ]
        },
        {
          "output_type": "stream",
          "name": "stdout",
          "text": [
            "Progress:  121 / 341\n"
          ]
        },
        {
          "output_type": "stream",
          "name": "stderr",
          "text": [
            "\n",
            "0: 384x640 31 persons, 1 bird, 120.5ms\n",
            "Speed: 1.7ms preprocess, 120.5ms inference, 1.1ms postprocess per image at shape (1, 3, 640, 640)\n"
          ]
        },
        {
          "output_type": "stream",
          "name": "stdout",
          "text": [
            "Progress:  122 / 341\n"
          ]
        },
        {
          "output_type": "stream",
          "name": "stderr",
          "text": [
            "\n",
            "0: 384x640 35 persons, 1 bird, 131.3ms\n",
            "Speed: 4.0ms preprocess, 131.3ms inference, 0.9ms postprocess per image at shape (1, 3, 640, 640)\n"
          ]
        },
        {
          "output_type": "stream",
          "name": "stdout",
          "text": [
            "Progress:  123 / 341\n"
          ]
        },
        {
          "output_type": "stream",
          "name": "stderr",
          "text": [
            "\n",
            "0: 384x640 35 persons, 1 bird, 160.8ms\n",
            "Speed: 6.8ms preprocess, 160.8ms inference, 1.8ms postprocess per image at shape (1, 3, 640, 640)\n"
          ]
        },
        {
          "output_type": "stream",
          "name": "stdout",
          "text": [
            "Progress:  124 / 341\n"
          ]
        },
        {
          "output_type": "stream",
          "name": "stderr",
          "text": [
            "\n",
            "0: 384x640 36 persons, 1 bird, 153.9ms\n",
            "Speed: 1.7ms preprocess, 153.9ms inference, 0.9ms postprocess per image at shape (1, 3, 640, 640)\n"
          ]
        },
        {
          "output_type": "stream",
          "name": "stdout",
          "text": [
            "Progress:  125 / 341\n"
          ]
        },
        {
          "output_type": "stream",
          "name": "stderr",
          "text": [
            "\n",
            "0: 384x640 37 persons, 1 bird, 156.7ms\n",
            "Speed: 5.4ms preprocess, 156.7ms inference, 1.0ms postprocess per image at shape (1, 3, 640, 640)\n"
          ]
        },
        {
          "output_type": "stream",
          "name": "stdout",
          "text": [
            "Progress:  126 / 341\n"
          ]
        },
        {
          "output_type": "stream",
          "name": "stderr",
          "text": [
            "\n",
            "0: 384x640 34 persons, 152.7ms\n",
            "Speed: 5.7ms preprocess, 152.7ms inference, 0.9ms postprocess per image at shape (1, 3, 640, 640)\n"
          ]
        },
        {
          "output_type": "stream",
          "name": "stdout",
          "text": [
            "Progress:  127 / 341\n"
          ]
        },
        {
          "output_type": "stream",
          "name": "stderr",
          "text": [
            "\n",
            "0: 384x640 33 persons, 171.1ms\n",
            "Speed: 3.4ms preprocess, 171.1ms inference, 1.2ms postprocess per image at shape (1, 3, 640, 640)\n"
          ]
        },
        {
          "output_type": "stream",
          "name": "stdout",
          "text": [
            "Progress:  128 / 341\n"
          ]
        },
        {
          "output_type": "stream",
          "name": "stderr",
          "text": [
            "\n"
          ]
        },
        {
          "output_type": "stream",
          "name": "stdout",
          "text": [
            "Progress:  129 / 341\n"
          ]
        },
        {
          "output_type": "stream",
          "name": "stderr",
          "text": [
            "0: 384x640 33 persons, 1 bird, 201.4ms\n",
            "Speed: 3.8ms preprocess, 201.4ms inference, 1.1ms postprocess per image at shape (1, 3, 640, 640)\n",
            "\n"
          ]
        },
        {
          "output_type": "stream",
          "name": "stdout",
          "text": [
            "Progress:  130 / 341\n"
          ]
        },
        {
          "output_type": "stream",
          "name": "stderr",
          "text": [
            "0: 384x640 32 persons, 1 bird, 188.4ms\n",
            "Speed: 2.1ms preprocess, 188.4ms inference, 1.2ms postprocess per image at shape (1, 3, 640, 640)\n",
            "\n",
            "0: 384x640 32 persons, 1 bird, 170.5ms\n",
            "Speed: 2.3ms preprocess, 170.5ms inference, 1.1ms postprocess per image at shape (1, 3, 640, 640)\n"
          ]
        },
        {
          "output_type": "stream",
          "name": "stdout",
          "text": [
            "Progress:  131 / 341\n"
          ]
        },
        {
          "output_type": "stream",
          "name": "stderr",
          "text": [
            "\n",
            "0: 384x640 32 persons, 152.5ms\n",
            "Speed: 5.9ms preprocess, 152.5ms inference, 0.9ms postprocess per image at shape (1, 3, 640, 640)\n"
          ]
        },
        {
          "output_type": "stream",
          "name": "stdout",
          "text": [
            "Progress:  132 / 341\n"
          ]
        },
        {
          "output_type": "stream",
          "name": "stderr",
          "text": [
            "\n",
            "0: 384x640 31 persons, 151.7ms\n",
            "Speed: 1.8ms preprocess, 151.7ms inference, 1.0ms postprocess per image at shape (1, 3, 640, 640)\n"
          ]
        },
        {
          "output_type": "stream",
          "name": "stdout",
          "text": [
            "Progress:  133 / 341\n"
          ]
        },
        {
          "output_type": "stream",
          "name": "stderr",
          "text": [
            "\n",
            "0: 384x640 29 persons, 144.0ms\n",
            "Speed: 1.5ms preprocess, 144.0ms inference, 0.9ms postprocess per image at shape (1, 3, 640, 640)\n"
          ]
        },
        {
          "output_type": "stream",
          "name": "stdout",
          "text": [
            "Progress:  134 / 341\n"
          ]
        },
        {
          "output_type": "stream",
          "name": "stderr",
          "text": [
            "\n",
            "0: 384x640 30 persons, 1 backpack, 138.6ms\n",
            "Speed: 1.9ms preprocess, 138.6ms inference, 0.9ms postprocess per image at shape (1, 3, 640, 640)\n"
          ]
        },
        {
          "output_type": "stream",
          "name": "stdout",
          "text": [
            "Progress:  135 / 341\n"
          ]
        },
        {
          "output_type": "stream",
          "name": "stderr",
          "text": [
            "\n",
            "0: 384x640 30 persons, 1 backpack, 151.4ms\n",
            "Speed: 5.6ms preprocess, 151.4ms inference, 0.9ms postprocess per image at shape (1, 3, 640, 640)\n"
          ]
        },
        {
          "output_type": "stream",
          "name": "stdout",
          "text": [
            "Progress:  136 / 341\n"
          ]
        },
        {
          "output_type": "stream",
          "name": "stderr",
          "text": [
            "\n",
            "0: 384x640 31 persons, 1 backpack, 149.5ms\n",
            "Speed: 6.3ms preprocess, 149.5ms inference, 0.9ms postprocess per image at shape (1, 3, 640, 640)\n"
          ]
        },
        {
          "output_type": "stream",
          "name": "stdout",
          "text": [
            "Progress:  137 / 341\n"
          ]
        },
        {
          "output_type": "stream",
          "name": "stderr",
          "text": [
            "\n",
            "0: 384x640 31 persons, 145.2ms\n",
            "Speed: 4.8ms preprocess, 145.2ms inference, 1.0ms postprocess per image at shape (1, 3, 640, 640)\n"
          ]
        },
        {
          "output_type": "stream",
          "name": "stdout",
          "text": [
            "Progress:  138 / 341\n"
          ]
        },
        {
          "output_type": "stream",
          "name": "stderr",
          "text": [
            "\n",
            "0: 384x640 29 persons, 1 suitcase, 151.7ms\n",
            "Speed: 1.7ms preprocess, 151.7ms inference, 1.0ms postprocess per image at shape (1, 3, 640, 640)\n"
          ]
        },
        {
          "output_type": "stream",
          "name": "stdout",
          "text": [
            "Progress:  139 / 341\n"
          ]
        },
        {
          "output_type": "stream",
          "name": "stderr",
          "text": [
            "\n",
            "0: 384x640 29 persons, 113.9ms\n",
            "Speed: 3.2ms preprocess, 113.9ms inference, 0.9ms postprocess per image at shape (1, 3, 640, 640)\n"
          ]
        },
        {
          "output_type": "stream",
          "name": "stdout",
          "text": [
            "Progress:  140 / 341\n"
          ]
        },
        {
          "output_type": "stream",
          "name": "stderr",
          "text": [
            "\n",
            "0: 384x640 30 persons, 129.8ms\n",
            "Speed: 2.5ms preprocess, 129.8ms inference, 1.0ms postprocess per image at shape (1, 3, 640, 640)\n"
          ]
        },
        {
          "output_type": "stream",
          "name": "stdout",
          "text": [
            "Progress:  141 / 341\n"
          ]
        },
        {
          "output_type": "stream",
          "name": "stderr",
          "text": [
            "\n",
            "0: 384x640 30 persons, 132.0ms\n",
            "Speed: 4.9ms preprocess, 132.0ms inference, 0.9ms postprocess per image at shape (1, 3, 640, 640)\n"
          ]
        },
        {
          "output_type": "stream",
          "name": "stdout",
          "text": [
            "Progress:  142 / 341\n"
          ]
        },
        {
          "output_type": "stream",
          "name": "stderr",
          "text": [
            "\n",
            "0: 384x640 30 persons, 127.2ms\n",
            "Speed: 2.7ms preprocess, 127.2ms inference, 1.1ms postprocess per image at shape (1, 3, 640, 640)\n"
          ]
        },
        {
          "output_type": "stream",
          "name": "stdout",
          "text": [
            "Progress:  143 / 341\n"
          ]
        },
        {
          "output_type": "stream",
          "name": "stderr",
          "text": [
            "\n",
            "0: 384x640 31 persons, 152.0ms\n",
            "Speed: 6.7ms preprocess, 152.0ms inference, 0.9ms postprocess per image at shape (1, 3, 640, 640)\n"
          ]
        },
        {
          "output_type": "stream",
          "name": "stdout",
          "text": [
            "Progress:  144 / 341\n"
          ]
        },
        {
          "output_type": "stream",
          "name": "stderr",
          "text": [
            "\n",
            "0: 384x640 29 persons, 150.9ms\n",
            "Speed: 3.6ms preprocess, 150.9ms inference, 1.0ms postprocess per image at shape (1, 3, 640, 640)\n"
          ]
        },
        {
          "output_type": "stream",
          "name": "stdout",
          "text": [
            "Progress:  145 / 341\n"
          ]
        },
        {
          "output_type": "stream",
          "name": "stderr",
          "text": [
            "\n",
            "0: 384x640 30 persons, 140.9ms\n",
            "Speed: 7.4ms preprocess, 140.9ms inference, 0.9ms postprocess per image at shape (1, 3, 640, 640)\n"
          ]
        },
        {
          "output_type": "stream",
          "name": "stdout",
          "text": [
            "Progress:  146 / 341\n"
          ]
        },
        {
          "output_type": "stream",
          "name": "stderr",
          "text": [
            "\n",
            "0: 384x640 30 persons, 145.7ms\n",
            "Speed: 1.7ms preprocess, 145.7ms inference, 0.9ms postprocess per image at shape (1, 3, 640, 640)\n"
          ]
        },
        {
          "output_type": "stream",
          "name": "stdout",
          "text": [
            "Progress:  147 / 341\n"
          ]
        },
        {
          "output_type": "stream",
          "name": "stderr",
          "text": [
            "\n"
          ]
        },
        {
          "output_type": "stream",
          "name": "stdout",
          "text": [
            "Progress:  148 / 341\n"
          ]
        },
        {
          "output_type": "stream",
          "name": "stderr",
          "text": [
            "0: 384x640 30 persons, 202.4ms\n",
            "Speed: 1.8ms preprocess, 202.4ms inference, 1.1ms postprocess per image at shape (1, 3, 640, 640)\n",
            "\n",
            "0: 384x640 31 persons, 180.9ms\n",
            "Speed: 6.5ms preprocess, 180.9ms inference, 1.1ms postprocess per image at shape (1, 3, 640, 640)\n"
          ]
        },
        {
          "output_type": "stream",
          "name": "stdout",
          "text": [
            "Progress:  149 / 341\n"
          ]
        },
        {
          "output_type": "stream",
          "name": "stderr",
          "text": [
            "\n",
            "0: 384x640 30 persons, 1 bird, 124.2ms\n",
            "Speed: 2.2ms preprocess, 124.2ms inference, 0.9ms postprocess per image at shape (1, 3, 640, 640)\n"
          ]
        },
        {
          "output_type": "stream",
          "name": "stdout",
          "text": [
            "Progress:  150 / 341\n"
          ]
        },
        {
          "output_type": "stream",
          "name": "stderr",
          "text": [
            "\n",
            "0: 384x640 30 persons, 1 bird, 161.6ms\n",
            "Speed: 2.8ms preprocess, 161.6ms inference, 1.0ms postprocess per image at shape (1, 3, 640, 640)\n"
          ]
        },
        {
          "output_type": "stream",
          "name": "stdout",
          "text": [
            "Progress:  151 / 341\n"
          ]
        },
        {
          "output_type": "stream",
          "name": "stderr",
          "text": [
            "\n",
            "0: 384x640 29 persons, 1 bird, 159.6ms\n",
            "Speed: 2.1ms preprocess, 159.6ms inference, 1.0ms postprocess per image at shape (1, 3, 640, 640)\n"
          ]
        },
        {
          "output_type": "stream",
          "name": "stdout",
          "text": [
            "Progress:  152 / 341\n"
          ]
        },
        {
          "output_type": "stream",
          "name": "stderr",
          "text": [
            "\n",
            "0: 384x640 29 persons, 1 bird, 124.1ms\n",
            "Speed: 1.9ms preprocess, 124.1ms inference, 0.9ms postprocess per image at shape (1, 3, 640, 640)\n"
          ]
        },
        {
          "output_type": "stream",
          "name": "stdout",
          "text": [
            "Progress:  153 / 341\n"
          ]
        },
        {
          "output_type": "stream",
          "name": "stderr",
          "text": [
            "\n",
            "0: 384x640 30 persons, 132.2ms\n",
            "Speed: 3.3ms preprocess, 132.2ms inference, 0.9ms postprocess per image at shape (1, 3, 640, 640)\n"
          ]
        },
        {
          "output_type": "stream",
          "name": "stdout",
          "text": [
            "Progress:  154 / 341\n"
          ]
        },
        {
          "output_type": "stream",
          "name": "stderr",
          "text": [
            "\n",
            "0: 384x640 30 persons, 148.3ms\n",
            "Speed: 4.5ms preprocess, 148.3ms inference, 0.9ms postprocess per image at shape (1, 3, 640, 640)\n"
          ]
        },
        {
          "output_type": "stream",
          "name": "stdout",
          "text": [
            "Progress:  155 / 341\n"
          ]
        },
        {
          "output_type": "stream",
          "name": "stderr",
          "text": [
            "\n",
            "0: 384x640 31 persons, 152.1ms\n",
            "Speed: 3.0ms preprocess, 152.1ms inference, 1.0ms postprocess per image at shape (1, 3, 640, 640)\n"
          ]
        },
        {
          "output_type": "stream",
          "name": "stdout",
          "text": [
            "Progress:  156 / 341\n"
          ]
        },
        {
          "output_type": "stream",
          "name": "stderr",
          "text": [
            "\n",
            "0: 384x640 30 persons, 1 bird, 133.7ms\n",
            "Speed: 3.3ms preprocess, 133.7ms inference, 0.9ms postprocess per image at shape (1, 3, 640, 640)\n"
          ]
        },
        {
          "output_type": "stream",
          "name": "stdout",
          "text": [
            "Progress:  157 / 341\n"
          ]
        },
        {
          "output_type": "stream",
          "name": "stderr",
          "text": [
            "\n",
            "0: 384x640 29 persons, 1 bird, 142.6ms\n",
            "Speed: 6.6ms preprocess, 142.6ms inference, 0.9ms postprocess per image at shape (1, 3, 640, 640)\n"
          ]
        },
        {
          "output_type": "stream",
          "name": "stdout",
          "text": [
            "Progress:  158 / 341\n"
          ]
        },
        {
          "output_type": "stream",
          "name": "stderr",
          "text": [
            "\n",
            "0: 384x640 27 persons, 1 bird, 129.6ms\n",
            "Speed: 2.6ms preprocess, 129.6ms inference, 0.9ms postprocess per image at shape (1, 3, 640, 640)\n"
          ]
        },
        {
          "output_type": "stream",
          "name": "stdout",
          "text": [
            "Progress:  159 / 341\n"
          ]
        },
        {
          "output_type": "stream",
          "name": "stderr",
          "text": [
            "\n",
            "0: 384x640 29 persons, 1 bird, 146.8ms\n",
            "Speed: 5.6ms preprocess, 146.8ms inference, 1.2ms postprocess per image at shape (1, 3, 640, 640)\n"
          ]
        },
        {
          "output_type": "stream",
          "name": "stdout",
          "text": [
            "Progress:  160 / 341\n"
          ]
        },
        {
          "output_type": "stream",
          "name": "stderr",
          "text": [
            "\n",
            "0: 384x640 28 persons, 1 bird, 147.8ms\n",
            "Speed: 4.0ms preprocess, 147.8ms inference, 1.3ms postprocess per image at shape (1, 3, 640, 640)\n"
          ]
        },
        {
          "output_type": "stream",
          "name": "stdout",
          "text": [
            "Progress:  161 / 341\n"
          ]
        },
        {
          "output_type": "stream",
          "name": "stderr",
          "text": [
            "\n",
            "0: 384x640 29 persons, 145.2ms\n",
            "Speed: 1.9ms preprocess, 145.2ms inference, 0.9ms postprocess per image at shape (1, 3, 640, 640)\n"
          ]
        },
        {
          "output_type": "stream",
          "name": "stdout",
          "text": [
            "Progress:  162 / 341\n"
          ]
        },
        {
          "output_type": "stream",
          "name": "stderr",
          "text": [
            "\n",
            "0: 384x640 30 persons, 128.8ms\n",
            "Speed: 3.1ms preprocess, 128.8ms inference, 1.0ms postprocess per image at shape (1, 3, 640, 640)\n"
          ]
        },
        {
          "output_type": "stream",
          "name": "stdout",
          "text": [
            "Progress:  163 / 341\n"
          ]
        },
        {
          "output_type": "stream",
          "name": "stderr",
          "text": [
            "\n",
            "0: 384x640 29 persons, 123.7ms\n",
            "Speed: 2.2ms preprocess, 123.7ms inference, 0.9ms postprocess per image at shape (1, 3, 640, 640)\n"
          ]
        },
        {
          "output_type": "stream",
          "name": "stdout",
          "text": [
            "Progress:  164 / 341\n"
          ]
        },
        {
          "output_type": "stream",
          "name": "stderr",
          "text": [
            "\n",
            "0: 384x640 29 persons, 146.5ms\n",
            "Speed: 2.7ms preprocess, 146.5ms inference, 1.0ms postprocess per image at shape (1, 3, 640, 640)\n"
          ]
        },
        {
          "output_type": "stream",
          "name": "stdout",
          "text": [
            "Progress:  165 / 341\n"
          ]
        },
        {
          "output_type": "stream",
          "name": "stderr",
          "text": [
            "\n",
            "0: 384x640 30 persons, 148.9ms\n",
            "Speed: 1.7ms preprocess, 148.9ms inference, 0.9ms postprocess per image at shape (1, 3, 640, 640)\n"
          ]
        },
        {
          "output_type": "stream",
          "name": "stdout",
          "text": [
            "Progress:  166 / 341\n"
          ]
        },
        {
          "output_type": "stream",
          "name": "stderr",
          "text": [
            "\n",
            "0: 384x640 30 persons, 154.9ms\n",
            "Speed: 7.7ms preprocess, 154.9ms inference, 0.9ms postprocess per image at shape (1, 3, 640, 640)\n"
          ]
        },
        {
          "output_type": "stream",
          "name": "stdout",
          "text": [
            "Progress:  167 / 341\n"
          ]
        },
        {
          "output_type": "stream",
          "name": "stderr",
          "text": [
            "\n"
          ]
        },
        {
          "output_type": "stream",
          "name": "stdout",
          "text": [
            "Progress:  168 / 341\n"
          ]
        },
        {
          "output_type": "stream",
          "name": "stderr",
          "text": [
            "0: 384x640 30 persons, 197.5ms\n",
            "Speed: 1.7ms preprocess, 197.5ms inference, 1.2ms postprocess per image at shape (1, 3, 640, 640)\n",
            "\n"
          ]
        },
        {
          "output_type": "stream",
          "name": "stdout",
          "text": [
            "Progress:  169 / 341\n"
          ]
        },
        {
          "output_type": "stream",
          "name": "stderr",
          "text": [
            "0: 384x640 30 persons, 194.3ms\n",
            "Speed: 8.0ms preprocess, 194.3ms inference, 1.4ms postprocess per image at shape (1, 3, 640, 640)\n",
            "\n",
            "0: 384x640 30 persons, 125.4ms\n",
            "Speed: 9.5ms preprocess, 125.4ms inference, 1.0ms postprocess per image at shape (1, 3, 640, 640)\n"
          ]
        },
        {
          "output_type": "stream",
          "name": "stdout",
          "text": [
            "Progress:  170 / 341\n"
          ]
        },
        {
          "output_type": "stream",
          "name": "stderr",
          "text": [
            "\n",
            "0: 384x640 30 persons, 146.6ms\n",
            "Speed: 1.6ms preprocess, 146.6ms inference, 1.0ms postprocess per image at shape (1, 3, 640, 640)\n"
          ]
        },
        {
          "output_type": "stream",
          "name": "stdout",
          "text": [
            "Progress:  171 / 341\n"
          ]
        },
        {
          "output_type": "stream",
          "name": "stderr",
          "text": [
            "\n",
            "0: 384x640 30 persons, 150.3ms\n",
            "Speed: 4.8ms preprocess, 150.3ms inference, 1.0ms postprocess per image at shape (1, 3, 640, 640)\n"
          ]
        },
        {
          "output_type": "stream",
          "name": "stdout",
          "text": [
            "Progress:  172 / 341\n"
          ]
        },
        {
          "output_type": "stream",
          "name": "stderr",
          "text": [
            "\n",
            "0: 384x640 29 persons, 140.7ms\n",
            "Speed: 1.6ms preprocess, 140.7ms inference, 0.9ms postprocess per image at shape (1, 3, 640, 640)\n"
          ]
        },
        {
          "output_type": "stream",
          "name": "stdout",
          "text": [
            "Progress:  173 / 341\n"
          ]
        },
        {
          "output_type": "stream",
          "name": "stderr",
          "text": [
            "\n",
            "0: 384x640 29 persons, 164.9ms\n",
            "Speed: 3.6ms preprocess, 164.9ms inference, 0.9ms postprocess per image at shape (1, 3, 640, 640)\n"
          ]
        },
        {
          "output_type": "stream",
          "name": "stdout",
          "text": [
            "Progress:  174 / 341\n"
          ]
        },
        {
          "output_type": "stream",
          "name": "stderr",
          "text": [
            "\n",
            "0: 384x640 28 persons, 120.3ms\n",
            "Speed: 5.3ms preprocess, 120.3ms inference, 0.9ms postprocess per image at shape (1, 3, 640, 640)\n"
          ]
        },
        {
          "output_type": "stream",
          "name": "stdout",
          "text": [
            "Progress:  175 / 341\n"
          ]
        },
        {
          "output_type": "stream",
          "name": "stderr",
          "text": [
            "\n",
            "0: 384x640 29 persons, 123.9ms\n",
            "Speed: 4.1ms preprocess, 123.9ms inference, 1.0ms postprocess per image at shape (1, 3, 640, 640)\n"
          ]
        },
        {
          "output_type": "stream",
          "name": "stdout",
          "text": [
            "Progress:  176 / 341\n"
          ]
        },
        {
          "output_type": "stream",
          "name": "stderr",
          "text": [
            "\n",
            "0: 384x640 30 persons, 2 birds, 163.9ms\n",
            "Speed: 7.3ms preprocess, 163.9ms inference, 0.9ms postprocess per image at shape (1, 3, 640, 640)\n"
          ]
        },
        {
          "output_type": "stream",
          "name": "stdout",
          "text": [
            "Progress:  177 / 341\n"
          ]
        },
        {
          "output_type": "stream",
          "name": "stderr",
          "text": [
            "\n",
            "0: 384x640 28 persons, 151.7ms\n",
            "Speed: 1.8ms preprocess, 151.7ms inference, 0.9ms postprocess per image at shape (1, 3, 640, 640)\n"
          ]
        },
        {
          "output_type": "stream",
          "name": "stdout",
          "text": [
            "Progress:  178 / 341\n"
          ]
        },
        {
          "output_type": "stream",
          "name": "stderr",
          "text": [
            "\n",
            "0: 384x640 28 persons, 142.6ms\n",
            "Speed: 6.9ms preprocess, 142.6ms inference, 0.9ms postprocess per image at shape (1, 3, 640, 640)\n"
          ]
        },
        {
          "output_type": "stream",
          "name": "stdout",
          "text": [
            "Progress:  179 / 341\n"
          ]
        },
        {
          "output_type": "stream",
          "name": "stderr",
          "text": [
            "\n",
            "0: 384x640 30 persons, 119.8ms\n",
            "Speed: 1.7ms preprocess, 119.8ms inference, 0.9ms postprocess per image at shape (1, 3, 640, 640)\n"
          ]
        },
        {
          "output_type": "stream",
          "name": "stdout",
          "text": [
            "Progress:  180 / 341\n"
          ]
        },
        {
          "output_type": "stream",
          "name": "stderr",
          "text": [
            "\n",
            "0: 384x640 30 persons, 1 bird, 123.6ms\n",
            "Speed: 1.8ms preprocess, 123.6ms inference, 0.9ms postprocess per image at shape (1, 3, 640, 640)\n"
          ]
        },
        {
          "output_type": "stream",
          "name": "stdout",
          "text": [
            "Progress:  181 / 341\n"
          ]
        },
        {
          "output_type": "stream",
          "name": "stderr",
          "text": [
            "\n",
            "0: 384x640 30 persons, 152.0ms\n",
            "Speed: 2.2ms preprocess, 152.0ms inference, 0.9ms postprocess per image at shape (1, 3, 640, 640)\n"
          ]
        },
        {
          "output_type": "stream",
          "name": "stdout",
          "text": [
            "Progress:  182 / 341\n"
          ]
        },
        {
          "output_type": "stream",
          "name": "stderr",
          "text": [
            "\n",
            "0: 384x640 28 persons, 127.6ms\n",
            "Speed: 2.1ms preprocess, 127.6ms inference, 1.0ms postprocess per image at shape (1, 3, 640, 640)\n"
          ]
        },
        {
          "output_type": "stream",
          "name": "stdout",
          "text": [
            "Progress:  183 / 341\n"
          ]
        },
        {
          "output_type": "stream",
          "name": "stderr",
          "text": [
            "\n",
            "0: 384x640 28 persons, 151.6ms\n",
            "Speed: 2.8ms preprocess, 151.6ms inference, 1.0ms postprocess per image at shape (1, 3, 640, 640)\n"
          ]
        },
        {
          "output_type": "stream",
          "name": "stdout",
          "text": [
            "Progress:  184 / 341\n"
          ]
        },
        {
          "output_type": "stream",
          "name": "stderr",
          "text": [
            "\n",
            "0: 384x640 28 persons, 150.2ms\n",
            "Speed: 1.7ms preprocess, 150.2ms inference, 0.9ms postprocess per image at shape (1, 3, 640, 640)\n"
          ]
        },
        {
          "output_type": "stream",
          "name": "stdout",
          "text": [
            "Progress:  185 / 341\n"
          ]
        },
        {
          "output_type": "stream",
          "name": "stderr",
          "text": [
            "\n",
            "0: 384x640 29 persons, 151.3ms\n",
            "Speed: 3.7ms preprocess, 151.3ms inference, 1.3ms postprocess per image at shape (1, 3, 640, 640)\n"
          ]
        },
        {
          "output_type": "stream",
          "name": "stdout",
          "text": [
            "Progress:  186 / 341\n"
          ]
        },
        {
          "output_type": "stream",
          "name": "stderr",
          "text": [
            "\n",
            "0: 384x640 29 persons, 190.8ms\n"
          ]
        },
        {
          "output_type": "stream",
          "name": "stdout",
          "text": [
            "Progress:  187 / 341\n"
          ]
        },
        {
          "output_type": "stream",
          "name": "stderr",
          "text": [
            "Speed: 1.8ms preprocess, 190.8ms inference, 1.3ms postprocess per image at shape (1, 3, 640, 640)\n",
            "\n"
          ]
        },
        {
          "output_type": "stream",
          "name": "stdout",
          "text": [
            "Progress:  188 / 341\n"
          ]
        },
        {
          "output_type": "stream",
          "name": "stderr",
          "text": [
            "0: 384x640 29 persons, 200.4ms\n",
            "Speed: 5.2ms preprocess, 200.4ms inference, 1.2ms postprocess per image at shape (1, 3, 640, 640)\n",
            "\n"
          ]
        },
        {
          "output_type": "stream",
          "name": "stdout",
          "text": [
            "Progress:  189 / 341\n"
          ]
        },
        {
          "output_type": "stream",
          "name": "stderr",
          "text": [
            "0: 384x640 30 persons, 192.3ms\n",
            "Speed: 1.8ms preprocess, 192.3ms inference, 1.2ms postprocess per image at shape (1, 3, 640, 640)\n",
            "\n",
            "0: 384x640 33 persons, 125.3ms\n",
            "Speed: 15.1ms preprocess, 125.3ms inference, 1.4ms postprocess per image at shape (1, 3, 640, 640)\n"
          ]
        },
        {
          "output_type": "stream",
          "name": "stdout",
          "text": [
            "Progress:  190 / 341\n"
          ]
        },
        {
          "output_type": "stream",
          "name": "stderr",
          "text": [
            "\n",
            "0: 384x640 33 persons, 149.4ms\n",
            "Speed: 2.0ms preprocess, 149.4ms inference, 1.0ms postprocess per image at shape (1, 3, 640, 640)\n"
          ]
        },
        {
          "output_type": "stream",
          "name": "stdout",
          "text": [
            "Progress:  191 / 341\n"
          ]
        },
        {
          "output_type": "stream",
          "name": "stderr",
          "text": [
            "\n",
            "0: 384x640 33 persons, 157.1ms\n",
            "Speed: 8.6ms preprocess, 157.1ms inference, 1.1ms postprocess per image at shape (1, 3, 640, 640)\n"
          ]
        },
        {
          "output_type": "stream",
          "name": "stdout",
          "text": [
            "Progress:  192 / 341\n"
          ]
        },
        {
          "output_type": "stream",
          "name": "stderr",
          "text": [
            "\n",
            "0: 384x640 34 persons, 130.6ms\n",
            "Speed: 1.6ms preprocess, 130.6ms inference, 1.0ms postprocess per image at shape (1, 3, 640, 640)\n"
          ]
        },
        {
          "output_type": "stream",
          "name": "stdout",
          "text": [
            "Progress:  193 / 341\n"
          ]
        },
        {
          "output_type": "stream",
          "name": "stderr",
          "text": [
            "\n",
            "0: 384x640 32 persons, 153.0ms\n",
            "Speed: 3.1ms preprocess, 153.0ms inference, 1.0ms postprocess per image at shape (1, 3, 640, 640)\n"
          ]
        },
        {
          "output_type": "stream",
          "name": "stdout",
          "text": [
            "Progress:  194 / 341\n"
          ]
        },
        {
          "output_type": "stream",
          "name": "stderr",
          "text": [
            "\n",
            "0: 384x640 31 persons, 155.9ms\n",
            "Speed: 1.8ms preprocess, 155.9ms inference, 1.1ms postprocess per image at shape (1, 3, 640, 640)\n"
          ]
        },
        {
          "output_type": "stream",
          "name": "stdout",
          "text": [
            "Progress:  195 / 341\n"
          ]
        },
        {
          "output_type": "stream",
          "name": "stderr",
          "text": [
            "\n",
            "0: 384x640 34 persons, 152.3ms\n",
            "Speed: 2.0ms preprocess, 152.3ms inference, 0.9ms postprocess per image at shape (1, 3, 640, 640)\n"
          ]
        },
        {
          "output_type": "stream",
          "name": "stdout",
          "text": [
            "Progress:  196 / 341\n"
          ]
        },
        {
          "output_type": "stream",
          "name": "stderr",
          "text": [
            "\n",
            "0: 384x640 34 persons, 1 handbag, 146.7ms\n",
            "Speed: 3.3ms preprocess, 146.7ms inference, 1.0ms postprocess per image at shape (1, 3, 640, 640)\n"
          ]
        },
        {
          "output_type": "stream",
          "name": "stdout",
          "text": [
            "Progress:  197 / 341\n"
          ]
        },
        {
          "output_type": "stream",
          "name": "stderr",
          "text": [
            "\n",
            "0: 384x640 32 persons, 1 handbag, 150.2ms\n",
            "Speed: 1.6ms preprocess, 150.2ms inference, 0.9ms postprocess per image at shape (1, 3, 640, 640)\n"
          ]
        },
        {
          "output_type": "stream",
          "name": "stdout",
          "text": [
            "Progress:  198 / 341\n"
          ]
        },
        {
          "output_type": "stream",
          "name": "stderr",
          "text": [
            "\n",
            "0: 384x640 32 persons, 1 handbag, 146.7ms\n",
            "Speed: 1.6ms preprocess, 146.7ms inference, 0.9ms postprocess per image at shape (1, 3, 640, 640)\n"
          ]
        },
        {
          "output_type": "stream",
          "name": "stdout",
          "text": [
            "Progress:  199 / 341\n"
          ]
        },
        {
          "output_type": "stream",
          "name": "stderr",
          "text": [
            "\n",
            "0: 384x640 32 persons, 1 dog, 1 handbag, 154.9ms\n",
            "Speed: 3.2ms preprocess, 154.9ms inference, 1.0ms postprocess per image at shape (1, 3, 640, 640)\n"
          ]
        },
        {
          "output_type": "stream",
          "name": "stdout",
          "text": [
            "Progress:  200 / 341\n"
          ]
        },
        {
          "output_type": "stream",
          "name": "stderr",
          "text": [
            "\n",
            "0: 384x640 32 persons, 1 handbag, 122.4ms\n",
            "Speed: 1.7ms preprocess, 122.4ms inference, 1.0ms postprocess per image at shape (1, 3, 640, 640)\n"
          ]
        },
        {
          "output_type": "stream",
          "name": "stdout",
          "text": [
            "Progress:  201 / 341\n"
          ]
        },
        {
          "output_type": "stream",
          "name": "stderr",
          "text": [
            "\n",
            "0: 384x640 31 persons, 1 handbag, 131.4ms\n",
            "Speed: 1.6ms preprocess, 131.4ms inference, 1.0ms postprocess per image at shape (1, 3, 640, 640)\n"
          ]
        },
        {
          "output_type": "stream",
          "name": "stdout",
          "text": [
            "Progress:  202 / 341\n"
          ]
        },
        {
          "output_type": "stream",
          "name": "stderr",
          "text": [
            "\n",
            "0: 384x640 32 persons, 1 handbag, 163.2ms\n",
            "Speed: 1.6ms preprocess, 163.2ms inference, 0.9ms postprocess per image at shape (1, 3, 640, 640)\n"
          ]
        },
        {
          "output_type": "stream",
          "name": "stdout",
          "text": [
            "Progress:  203 / 341\n"
          ]
        },
        {
          "output_type": "stream",
          "name": "stderr",
          "text": [
            "\n",
            "0: 384x640 31 persons, 1 handbag, 131.2ms\n",
            "Speed: 3.9ms preprocess, 131.2ms inference, 0.9ms postprocess per image at shape (1, 3, 640, 640)\n"
          ]
        },
        {
          "output_type": "stream",
          "name": "stdout",
          "text": [
            "Progress:  204 / 341\n"
          ]
        },
        {
          "output_type": "stream",
          "name": "stderr",
          "text": [
            "\n",
            "0: 384x640 31 persons, 1 bird, 1 horse, 1 handbag, 157.3ms\n",
            "Speed: 2.9ms preprocess, 157.3ms inference, 1.4ms postprocess per image at shape (1, 3, 640, 640)\n"
          ]
        },
        {
          "output_type": "stream",
          "name": "stdout",
          "text": [
            "Progress:  205 / 341\n"
          ]
        },
        {
          "output_type": "stream",
          "name": "stderr",
          "text": [
            "\n",
            "0: 384x640 31 persons, 1 handbag, 167.4ms\n",
            "Speed: 1.9ms preprocess, 167.4ms inference, 1.2ms postprocess per image at shape (1, 3, 640, 640)\n"
          ]
        },
        {
          "output_type": "stream",
          "name": "stdout",
          "text": [
            "Progress:  206 / 341\n"
          ]
        },
        {
          "output_type": "stream",
          "name": "stderr",
          "text": [
            "\n",
            "0: 384x640 28 persons, 2 backpacks, 193.8ms\n"
          ]
        },
        {
          "output_type": "stream",
          "name": "stdout",
          "text": [
            "Progress:  207 / 341\n"
          ]
        },
        {
          "output_type": "stream",
          "name": "stderr",
          "text": [
            "Speed: 1.6ms preprocess, 193.8ms inference, 1.1ms postprocess per image at shape (1, 3, 640, 640)\n",
            "\n"
          ]
        },
        {
          "output_type": "stream",
          "name": "stdout",
          "text": [
            "Progress:  208 / 341\n"
          ]
        },
        {
          "output_type": "stream",
          "name": "stderr",
          "text": [
            "0: 384x640 27 persons, 184.9ms\n",
            "Speed: 8.5ms preprocess, 184.9ms inference, 1.3ms postprocess per image at shape (1, 3, 640, 640)\n",
            "\n",
            "0: 384x640 27 persons, 1 bird, 143.8ms\n",
            "Speed: 3.7ms preprocess, 143.8ms inference, 0.9ms postprocess per image at shape (1, 3, 640, 640)\n"
          ]
        },
        {
          "output_type": "stream",
          "name": "stdout",
          "text": [
            "Progress:  209 / 341\n"
          ]
        },
        {
          "output_type": "stream",
          "name": "stderr",
          "text": [
            "\n",
            "0: 384x640 25 persons, 3 birds, 122.8ms\n",
            "Speed: 1.8ms preprocess, 122.8ms inference, 0.9ms postprocess per image at shape (1, 3, 640, 640)\n"
          ]
        },
        {
          "output_type": "stream",
          "name": "stdout",
          "text": [
            "Progress:  210 / 341\n"
          ]
        },
        {
          "output_type": "stream",
          "name": "stderr",
          "text": [
            "\n",
            "0: 384x640 26 persons, 1 bird, 127.3ms\n",
            "Speed: 1.7ms preprocess, 127.3ms inference, 0.9ms postprocess per image at shape (1, 3, 640, 640)\n"
          ]
        },
        {
          "output_type": "stream",
          "name": "stdout",
          "text": [
            "Progress:  211 / 341\n"
          ]
        },
        {
          "output_type": "stream",
          "name": "stderr",
          "text": [
            "\n",
            "0: 384x640 28 persons, 2 birds, 134.9ms\n",
            "Speed: 1.7ms preprocess, 134.9ms inference, 0.9ms postprocess per image at shape (1, 3, 640, 640)\n"
          ]
        },
        {
          "output_type": "stream",
          "name": "stdout",
          "text": [
            "Progress:  212 / 341\n"
          ]
        },
        {
          "output_type": "stream",
          "name": "stderr",
          "text": [
            "\n",
            "0: 384x640 26 persons, 3 birds, 125.2ms\n",
            "Speed: 1.9ms preprocess, 125.2ms inference, 0.9ms postprocess per image at shape (1, 3, 640, 640)\n"
          ]
        },
        {
          "output_type": "stream",
          "name": "stdout",
          "text": [
            "Progress:  213 / 341\n"
          ]
        },
        {
          "output_type": "stream",
          "name": "stderr",
          "text": [
            "\n",
            "0: 384x640 28 persons, 3 birds, 1 handbag, 135.3ms\n",
            "Speed: 5.5ms preprocess, 135.3ms inference, 0.9ms postprocess per image at shape (1, 3, 640, 640)\n"
          ]
        },
        {
          "output_type": "stream",
          "name": "stdout",
          "text": [
            "Progress:  214 / 341\n"
          ]
        },
        {
          "output_type": "stream",
          "name": "stderr",
          "text": [
            "\n",
            "0: 384x640 28 persons, 2 birds, 1 backpack, 154.6ms\n",
            "Speed: 1.7ms preprocess, 154.6ms inference, 1.0ms postprocess per image at shape (1, 3, 640, 640)\n"
          ]
        },
        {
          "output_type": "stream",
          "name": "stdout",
          "text": [
            "Progress:  215 / 341\n"
          ]
        },
        {
          "output_type": "stream",
          "name": "stderr",
          "text": [
            "\n",
            "0: 384x640 29 persons, 2 birds, 1 handbag, 161.5ms\n",
            "Speed: 1.7ms preprocess, 161.5ms inference, 0.9ms postprocess per image at shape (1, 3, 640, 640)\n"
          ]
        },
        {
          "output_type": "stream",
          "name": "stdout",
          "text": [
            "Progress:  216 / 341\n"
          ]
        },
        {
          "output_type": "stream",
          "name": "stderr",
          "text": [
            "\n",
            "0: 384x640 31 persons, 1 handbag, 151.0ms\n",
            "Speed: 4.1ms preprocess, 151.0ms inference, 0.9ms postprocess per image at shape (1, 3, 640, 640)\n"
          ]
        },
        {
          "output_type": "stream",
          "name": "stdout",
          "text": [
            "Progress:  217 / 341\n"
          ]
        },
        {
          "output_type": "stream",
          "name": "stderr",
          "text": [
            "\n",
            "0: 384x640 31 persons, 126.4ms\n",
            "Speed: 1.9ms preprocess, 126.4ms inference, 1.0ms postprocess per image at shape (1, 3, 640, 640)\n"
          ]
        },
        {
          "output_type": "stream",
          "name": "stdout",
          "text": [
            "Progress:  218 / 341\n"
          ]
        },
        {
          "output_type": "stream",
          "name": "stderr",
          "text": [
            "\n",
            "0: 384x640 31 persons, 162.0ms\n",
            "Speed: 1.7ms preprocess, 162.0ms inference, 1.0ms postprocess per image at shape (1, 3, 640, 640)\n"
          ]
        },
        {
          "output_type": "stream",
          "name": "stdout",
          "text": [
            "Progress:  219 / 341\n"
          ]
        },
        {
          "output_type": "stream",
          "name": "stderr",
          "text": [
            "\n",
            "0: 384x640 31 persons, 1 handbag, 152.7ms\n",
            "Speed: 1.7ms preprocess, 152.7ms inference, 1.0ms postprocess per image at shape (1, 3, 640, 640)\n"
          ]
        },
        {
          "output_type": "stream",
          "name": "stdout",
          "text": [
            "Progress:  220 / 341\n"
          ]
        },
        {
          "output_type": "stream",
          "name": "stderr",
          "text": [
            "\n",
            "0: 384x640 29 persons, 1 handbag, 152.7ms\n",
            "Speed: 3.0ms preprocess, 152.7ms inference, 0.9ms postprocess per image at shape (1, 3, 640, 640)\n"
          ]
        },
        {
          "output_type": "stream",
          "name": "stdout",
          "text": [
            "Progress:  221 / 341\n"
          ]
        },
        {
          "output_type": "stream",
          "name": "stderr",
          "text": [
            "\n",
            "0: 384x640 27 persons, 1 skis, 151.5ms\n",
            "Speed: 4.2ms preprocess, 151.5ms inference, 0.9ms postprocess per image at shape (1, 3, 640, 640)\n"
          ]
        },
        {
          "output_type": "stream",
          "name": "stdout",
          "text": [
            "Progress:  222 / 341\n"
          ]
        },
        {
          "output_type": "stream",
          "name": "stderr",
          "text": [
            "\n",
            "0: 384x640 26 persons, 5 birds, 1 skis, 150.7ms\n",
            "Speed: 5.8ms preprocess, 150.7ms inference, 0.9ms postprocess per image at shape (1, 3, 640, 640)\n"
          ]
        },
        {
          "output_type": "stream",
          "name": "stdout",
          "text": [
            "Progress:  223 / 341\n"
          ]
        },
        {
          "output_type": "stream",
          "name": "stderr",
          "text": [
            "\n",
            "0: 384x640 23 persons, 4 birds, 1 skis, 159.8ms\n",
            "Speed: 6.1ms preprocess, 159.8ms inference, 0.9ms postprocess per image at shape (1, 3, 640, 640)\n"
          ]
        },
        {
          "output_type": "stream",
          "name": "stdout",
          "text": [
            "Progress:  224 / 341\n"
          ]
        },
        {
          "output_type": "stream",
          "name": "stderr",
          "text": [
            "\n",
            "0: 384x640 24 persons, 4 birds, 1 skis, 130.3ms\n",
            "Speed: 3.2ms preprocess, 130.3ms inference, 0.9ms postprocess per image at shape (1, 3, 640, 640)\n"
          ]
        },
        {
          "output_type": "stream",
          "name": "stdout",
          "text": [
            "Progress:  225 / 341\n"
          ]
        },
        {
          "output_type": "stream",
          "name": "stderr",
          "text": [
            "\n",
            "0: 384x640 24 persons, 5 birds, 1 skis, 149.8ms\n",
            "Speed: 3.6ms preprocess, 149.8ms inference, 0.9ms postprocess per image at shape (1, 3, 640, 640)\n"
          ]
        },
        {
          "output_type": "stream",
          "name": "stdout",
          "text": [
            "Progress:  226 / 341\n"
          ]
        },
        {
          "output_type": "stream",
          "name": "stderr",
          "text": [
            "\n",
            "0: 384x640 23 persons, 2 birds, 1 handbag, 1 skis, 169.6ms\n",
            "Speed: 1.7ms preprocess, 169.6ms inference, 0.9ms postprocess per image at shape (1, 3, 640, 640)\n"
          ]
        },
        {
          "output_type": "stream",
          "name": "stdout",
          "text": [
            "Progress:  227 / 341\n"
          ]
        },
        {
          "output_type": "stream",
          "name": "stderr",
          "text": [
            "\n",
            "0: 384x640 26 persons, 1 bird, 1 handbag, 190.1ms\n"
          ]
        },
        {
          "output_type": "stream",
          "name": "stdout",
          "text": [
            "Progress:  228 / 341\n"
          ]
        },
        {
          "output_type": "stream",
          "name": "stderr",
          "text": [
            "Speed: 1.6ms preprocess, 190.1ms inference, 1.1ms postprocess per image at shape (1, 3, 640, 640)\n",
            "\n"
          ]
        },
        {
          "output_type": "stream",
          "name": "stdout",
          "text": [
            "Progress:  229 / 341\n"
          ]
        },
        {
          "output_type": "stream",
          "name": "stderr",
          "text": [
            "0: 384x640 27 persons, 1 bird, 1 handbag, 192.8ms\n",
            "Speed: 2.0ms preprocess, 192.8ms inference, 1.9ms postprocess per image at shape (1, 3, 640, 640)\n",
            "\n",
            "0: 384x640 26 persons, 1 bird, 1 handbag, 186.9ms\n",
            "Speed: 3.2ms preprocess, 186.9ms inference, 1.6ms postprocess per image at shape (1, 3, 640, 640)\n"
          ]
        },
        {
          "output_type": "stream",
          "name": "stdout",
          "text": [
            "Progress:  230 / 341\n"
          ]
        },
        {
          "output_type": "stream",
          "name": "stderr",
          "text": [
            "\n",
            "0: 384x640 27 persons, 1 bird, 2 handbags, 129.7ms\n",
            "Speed: 2.2ms preprocess, 129.7ms inference, 1.3ms postprocess per image at shape (1, 3, 640, 640)\n"
          ]
        },
        {
          "output_type": "stream",
          "name": "stdout",
          "text": [
            "Progress:  231 / 341\n"
          ]
        },
        {
          "output_type": "stream",
          "name": "stderr",
          "text": [
            "\n",
            "0: 384x640 27 persons, 1 bird, 2 handbags, 161.6ms\n",
            "Speed: 2.7ms preprocess, 161.6ms inference, 0.9ms postprocess per image at shape (1, 3, 640, 640)\n"
          ]
        },
        {
          "output_type": "stream",
          "name": "stdout",
          "text": [
            "Progress:  232 / 341\n"
          ]
        },
        {
          "output_type": "stream",
          "name": "stderr",
          "text": [
            "\n",
            "0: 384x640 25 persons, 3 birds, 1 handbag, 150.6ms\n",
            "Speed: 3.2ms preprocess, 150.6ms inference, 0.9ms postprocess per image at shape (1, 3, 640, 640)\n"
          ]
        },
        {
          "output_type": "stream",
          "name": "stdout",
          "text": [
            "Progress:  233 / 341\n"
          ]
        },
        {
          "output_type": "stream",
          "name": "stderr",
          "text": [
            "\n",
            "0: 384x640 25 persons, 3 birds, 1 handbag, 147.6ms\n",
            "Speed: 4.0ms preprocess, 147.6ms inference, 0.9ms postprocess per image at shape (1, 3, 640, 640)\n"
          ]
        },
        {
          "output_type": "stream",
          "name": "stdout",
          "text": [
            "Progress:  234 / 341\n"
          ]
        },
        {
          "output_type": "stream",
          "name": "stderr",
          "text": [
            "\n",
            "0: 384x640 26 persons, 2 birds, 1 handbag, 125.6ms\n",
            "Speed: 1.7ms preprocess, 125.6ms inference, 0.9ms postprocess per image at shape (1, 3, 640, 640)\n"
          ]
        },
        {
          "output_type": "stream",
          "name": "stdout",
          "text": [
            "Progress:  235 / 341\n"
          ]
        },
        {
          "output_type": "stream",
          "name": "stderr",
          "text": [
            "\n",
            "0: 384x640 25 persons, 2 birds, 1 handbag, 134.7ms\n",
            "Speed: 1.9ms preprocess, 134.7ms inference, 0.9ms postprocess per image at shape (1, 3, 640, 640)\n"
          ]
        },
        {
          "output_type": "stream",
          "name": "stdout",
          "text": [
            "Progress:  236 / 341\n"
          ]
        },
        {
          "output_type": "stream",
          "name": "stderr",
          "text": [
            "\n",
            "0: 384x640 25 persons, 3 birds, 1 dog, 1 handbag, 161.8ms\n",
            "Speed: 1.8ms preprocess, 161.8ms inference, 1.1ms postprocess per image at shape (1, 3, 640, 640)\n"
          ]
        },
        {
          "output_type": "stream",
          "name": "stdout",
          "text": [
            "Progress:  237 / 341\n"
          ]
        },
        {
          "output_type": "stream",
          "name": "stderr",
          "text": [
            "\n",
            "0: 384x640 25 persons, 2 birds, 1 backpack, 172.8ms\n",
            "Speed: 2.7ms preprocess, 172.8ms inference, 1.1ms postprocess per image at shape (1, 3, 640, 640)\n"
          ]
        },
        {
          "output_type": "stream",
          "name": "stdout",
          "text": [
            "Progress:  238 / 341\n"
          ]
        },
        {
          "output_type": "stream",
          "name": "stderr",
          "text": [
            "\n",
            "0: 384x640 26 persons, 4 birds, 1 backpack, 164.4ms\n",
            "Speed: 2.3ms preprocess, 164.4ms inference, 0.9ms postprocess per image at shape (1, 3, 640, 640)\n"
          ]
        },
        {
          "output_type": "stream",
          "name": "stdout",
          "text": [
            "Progress:  239 / 341\n"
          ]
        },
        {
          "output_type": "stream",
          "name": "stderr",
          "text": [
            "\n",
            "0: 384x640 26 persons, 1 handbag, 154.5ms\n",
            "Speed: 2.6ms preprocess, 154.5ms inference, 1.0ms postprocess per image at shape (1, 3, 640, 640)\n"
          ]
        },
        {
          "output_type": "stream",
          "name": "stdout",
          "text": [
            "Progress:  240 / 341\n"
          ]
        },
        {
          "output_type": "stream",
          "name": "stderr",
          "text": [
            "\n",
            "0: 384x640 26 persons, 3 birds, 1 handbag, 151.0ms\n",
            "Speed: 7.9ms preprocess, 151.0ms inference, 0.9ms postprocess per image at shape (1, 3, 640, 640)\n"
          ]
        },
        {
          "output_type": "stream",
          "name": "stdout",
          "text": [
            "Progress:  241 / 341\n"
          ]
        },
        {
          "output_type": "stream",
          "name": "stderr",
          "text": [
            "\n",
            "0: 384x640 26 persons, 2 birds, 1 handbag, 142.5ms\n",
            "Speed: 2.1ms preprocess, 142.5ms inference, 0.9ms postprocess per image at shape (1, 3, 640, 640)\n"
          ]
        },
        {
          "output_type": "stream",
          "name": "stdout",
          "text": [
            "Progress:  242 / 341\n"
          ]
        },
        {
          "output_type": "stream",
          "name": "stderr",
          "text": [
            "\n",
            "0: 384x640 25 persons, 4 birds, 1 dog, 1 handbag, 146.4ms\n",
            "Speed: 8.9ms preprocess, 146.4ms inference, 1.1ms postprocess per image at shape (1, 3, 640, 640)\n"
          ]
        },
        {
          "output_type": "stream",
          "name": "stdout",
          "text": [
            "Progress:  243 / 341\n"
          ]
        },
        {
          "output_type": "stream",
          "name": "stderr",
          "text": [
            "\n",
            "0: 384x640 27 persons, 2 birds, 1 handbag, 141.6ms\n",
            "Speed: 3.2ms preprocess, 141.6ms inference, 1.0ms postprocess per image at shape (1, 3, 640, 640)\n"
          ]
        },
        {
          "output_type": "stream",
          "name": "stdout",
          "text": [
            "Progress:  244 / 341\n"
          ]
        },
        {
          "output_type": "stream",
          "name": "stderr",
          "text": [
            "\n",
            "0: 384x640 26 persons, 1 bird, 1 handbag, 158.8ms\n",
            "Speed: 4.2ms preprocess, 158.8ms inference, 1.0ms postprocess per image at shape (1, 3, 640, 640)\n"
          ]
        },
        {
          "output_type": "stream",
          "name": "stdout",
          "text": [
            "Progress:  245 / 341\n"
          ]
        },
        {
          "output_type": "stream",
          "name": "stderr",
          "text": [
            "\n",
            "0: 384x640 25 persons, 1 bird, 158.0ms\n",
            "Speed: 4.1ms preprocess, 158.0ms inference, 0.9ms postprocess per image at shape (1, 3, 640, 640)\n"
          ]
        },
        {
          "output_type": "stream",
          "name": "stdout",
          "text": [
            "Progress:  246 / 341\n"
          ]
        },
        {
          "output_type": "stream",
          "name": "stderr",
          "text": [
            "\n",
            "0: 384x640 26 persons, 1 handbag, 129.8ms\n",
            "Speed: 6.2ms preprocess, 129.8ms inference, 0.9ms postprocess per image at shape (1, 3, 640, 640)\n"
          ]
        },
        {
          "output_type": "stream",
          "name": "stdout",
          "text": [
            "Progress:  247 / 341\n"
          ]
        },
        {
          "output_type": "stream",
          "name": "stderr",
          "text": [
            "\n"
          ]
        },
        {
          "output_type": "stream",
          "name": "stdout",
          "text": [
            "Progress:  248 / 341\n"
          ]
        },
        {
          "output_type": "stream",
          "name": "stderr",
          "text": [
            "0: 384x640 25 persons, 1 motorcycle, 3 birds, 1 handbag, 204.4ms\n",
            "Speed: 1.8ms preprocess, 204.4ms inference, 1.3ms postprocess per image at shape (1, 3, 640, 640)\n",
            "\n"
          ]
        },
        {
          "output_type": "stream",
          "name": "stdout",
          "text": [
            "Progress:  249 / 341\n"
          ]
        },
        {
          "output_type": "stream",
          "name": "stderr",
          "text": [
            "0: 384x640 26 persons, 3 birds, 1 dog, 193.7ms\n",
            "Speed: 8.8ms preprocess, 193.7ms inference, 1.2ms postprocess per image at shape (1, 3, 640, 640)\n",
            "\n"
          ]
        },
        {
          "output_type": "stream",
          "name": "stdout",
          "text": [
            "Progress:  250 / 341\n"
          ]
        },
        {
          "output_type": "stream",
          "name": "stderr",
          "text": [
            "0: 384x640 26 persons, 2 birds, 1 handbag, 1 kite, 249.3ms\n",
            "Speed: 4.8ms preprocess, 249.3ms inference, 1.1ms postprocess per image at shape (1, 3, 640, 640)\n",
            "\n",
            "0: 384x640 26 persons, 2 birds, 1 handbag, 1 kite, 186.1ms\n"
          ]
        },
        {
          "output_type": "stream",
          "name": "stdout",
          "text": [
            "Progress:  251 / 341\n"
          ]
        },
        {
          "output_type": "stream",
          "name": "stderr",
          "text": [
            "Speed: 1.9ms preprocess, 186.1ms inference, 1.1ms postprocess per image at shape (1, 3, 640, 640)\n",
            "\n"
          ]
        },
        {
          "output_type": "stream",
          "name": "stdout",
          "text": [
            "Progress:  252 / 341\n"
          ]
        },
        {
          "output_type": "stream",
          "name": "stderr",
          "text": [
            "0: 384x640 26 persons, 2 birds, 1 handbag, 203.2ms\n",
            "Speed: 1.7ms preprocess, 203.2ms inference, 3.7ms postprocess per image at shape (1, 3, 640, 640)\n",
            "\n",
            "0: 384x640 28 persons, 1 handbag, 153.0ms\n",
            "Speed: 1.7ms preprocess, 153.0ms inference, 1.0ms postprocess per image at shape (1, 3, 640, 640)\n"
          ]
        },
        {
          "output_type": "stream",
          "name": "stdout",
          "text": [
            "Progress:  253 / 341\n"
          ]
        },
        {
          "output_type": "stream",
          "name": "stderr",
          "text": [
            "\n",
            "0: 384x640 28 persons, 1 handbag, 150.0ms\n",
            "Speed: 2.2ms preprocess, 150.0ms inference, 1.0ms postprocess per image at shape (1, 3, 640, 640)\n"
          ]
        },
        {
          "output_type": "stream",
          "name": "stdout",
          "text": [
            "Progress:  254 / 341\n"
          ]
        },
        {
          "output_type": "stream",
          "name": "stderr",
          "text": [
            "\n",
            "0: 384x640 28 persons, 1 bird, 1 handbag, 151.5ms\n",
            "Speed: 4.2ms preprocess, 151.5ms inference, 0.9ms postprocess per image at shape (1, 3, 640, 640)\n"
          ]
        },
        {
          "output_type": "stream",
          "name": "stdout",
          "text": [
            "Progress:  255 / 341\n"
          ]
        },
        {
          "output_type": "stream",
          "name": "stderr",
          "text": [
            "\n",
            "0: 384x640 29 persons, 1 bird, 1 handbag, 141.7ms\n",
            "Speed: 6.5ms preprocess, 141.7ms inference, 0.9ms postprocess per image at shape (1, 3, 640, 640)\n"
          ]
        },
        {
          "output_type": "stream",
          "name": "stdout",
          "text": [
            "Progress:  256 / 341\n"
          ]
        },
        {
          "output_type": "stream",
          "name": "stderr",
          "text": [
            "\n",
            "0: 384x640 32 persons, 1 bird, 121.4ms\n",
            "Speed: 1.7ms preprocess, 121.4ms inference, 1.0ms postprocess per image at shape (1, 3, 640, 640)\n"
          ]
        },
        {
          "output_type": "stream",
          "name": "stdout",
          "text": [
            "Progress:  257 / 341\n"
          ]
        },
        {
          "output_type": "stream",
          "name": "stderr",
          "text": [
            "\n",
            "0: 384x640 29 persons, 2 birds, 153.8ms\n",
            "Speed: 7.1ms preprocess, 153.8ms inference, 0.9ms postprocess per image at shape (1, 3, 640, 640)\n"
          ]
        },
        {
          "output_type": "stream",
          "name": "stdout",
          "text": [
            "Progress:  258 / 341\n"
          ]
        },
        {
          "output_type": "stream",
          "name": "stderr",
          "text": [
            "\n",
            "0: 384x640 27 persons, 2 birds, 1 backpack, 154.1ms\n",
            "Speed: 2.8ms preprocess, 154.1ms inference, 0.9ms postprocess per image at shape (1, 3, 640, 640)\n"
          ]
        },
        {
          "output_type": "stream",
          "name": "stdout",
          "text": [
            "Progress:  259 / 341\n"
          ]
        },
        {
          "output_type": "stream",
          "name": "stderr",
          "text": [
            "\n",
            "0: 384x640 27 persons, 3 birds, 1 backpack, 1 handbag, 141.6ms\n",
            "Speed: 3.9ms preprocess, 141.6ms inference, 0.9ms postprocess per image at shape (1, 3, 640, 640)\n"
          ]
        },
        {
          "output_type": "stream",
          "name": "stdout",
          "text": [
            "Progress:  260 / 341\n"
          ]
        },
        {
          "output_type": "stream",
          "name": "stderr",
          "text": [
            "\n",
            "0: 384x640 26 persons, 2 birds, 1 handbag, 147.4ms\n",
            "Speed: 6.1ms preprocess, 147.4ms inference, 0.9ms postprocess per image at shape (1, 3, 640, 640)\n"
          ]
        },
        {
          "output_type": "stream",
          "name": "stdout",
          "text": [
            "Progress:  261 / 341\n"
          ]
        },
        {
          "output_type": "stream",
          "name": "stderr",
          "text": [
            "\n",
            "0: 384x640 28 persons, 2 birds, 1 handbag, 147.0ms\n",
            "Speed: 1.6ms preprocess, 147.0ms inference, 0.9ms postprocess per image at shape (1, 3, 640, 640)\n"
          ]
        },
        {
          "output_type": "stream",
          "name": "stdout",
          "text": [
            "Progress:  262 / 341\n"
          ]
        },
        {
          "output_type": "stream",
          "name": "stderr",
          "text": [
            "\n",
            "0: 384x640 30 persons, 3 birds, 125.8ms\n",
            "Speed: 7.8ms preprocess, 125.8ms inference, 1.0ms postprocess per image at shape (1, 3, 640, 640)\n"
          ]
        },
        {
          "output_type": "stream",
          "name": "stdout",
          "text": [
            "Progress:  263 / 341\n"
          ]
        },
        {
          "output_type": "stream",
          "name": "stderr",
          "text": [
            "\n",
            "0: 384x640 27 persons, 4 birds, 157.4ms\n",
            "Speed: 3.0ms preprocess, 157.4ms inference, 0.9ms postprocess per image at shape (1, 3, 640, 640)\n"
          ]
        },
        {
          "output_type": "stream",
          "name": "stdout",
          "text": [
            "Progress:  264 / 341\n"
          ]
        },
        {
          "output_type": "stream",
          "name": "stderr",
          "text": [
            "\n",
            "0: 384x640 31 persons, 4 birds, 150.5ms\n",
            "Speed: 1.6ms preprocess, 150.5ms inference, 0.9ms postprocess per image at shape (1, 3, 640, 640)\n"
          ]
        },
        {
          "output_type": "stream",
          "name": "stdout",
          "text": [
            "Progress:  265 / 341\n"
          ]
        },
        {
          "output_type": "stream",
          "name": "stderr",
          "text": [
            "\n",
            "0: 384x640 28 persons, 2 birds, 134.6ms\n",
            "Speed: 2.4ms preprocess, 134.6ms inference, 0.9ms postprocess per image at shape (1, 3, 640, 640)\n"
          ]
        },
        {
          "output_type": "stream",
          "name": "stdout",
          "text": [
            "Progress:  266 / 341\n"
          ]
        },
        {
          "output_type": "stream",
          "name": "stderr",
          "text": [
            "\n",
            "0: 384x640 29 persons, 3 birds, 1 backpack, 120.3ms\n",
            "Speed: 7.2ms preprocess, 120.3ms inference, 0.9ms postprocess per image at shape (1, 3, 640, 640)\n"
          ]
        },
        {
          "output_type": "stream",
          "name": "stdout",
          "text": [
            "Progress:  267 / 341\n"
          ]
        },
        {
          "output_type": "stream",
          "name": "stderr",
          "text": [
            "\n",
            "0: 384x640 30 persons, 2 birds, 158.1ms\n",
            "Speed: 8.3ms preprocess, 158.1ms inference, 1.1ms postprocess per image at shape (1, 3, 640, 640)\n"
          ]
        },
        {
          "output_type": "stream",
          "name": "stdout",
          "text": [
            "Progress:  268 / 341\n"
          ]
        },
        {
          "output_type": "stream",
          "name": "stderr",
          "text": [
            "\n",
            "0: 384x640 30 persons, 1 bird, 121.9ms\n",
            "Speed: 4.1ms preprocess, 121.9ms inference, 0.9ms postprocess per image at shape (1, 3, 640, 640)\n"
          ]
        },
        {
          "output_type": "stream",
          "name": "stdout",
          "text": [
            "Progress:  269 / 341\n"
          ]
        },
        {
          "output_type": "stream",
          "name": "stderr",
          "text": [
            "\n",
            "0: 384x640 26 persons, 1 bird, 151.9ms\n",
            "Speed: 4.3ms preprocess, 151.9ms inference, 0.9ms postprocess per image at shape (1, 3, 640, 640)\n"
          ]
        },
        {
          "output_type": "stream",
          "name": "stdout",
          "text": [
            "Progress:  270 / 341\n"
          ]
        },
        {
          "output_type": "stream",
          "name": "stderr",
          "text": [
            "\n",
            "0: 384x640 30 persons, 1 bird, 145.7ms\n",
            "Speed: 1.9ms preprocess, 145.7ms inference, 1.0ms postprocess per image at shape (1, 3, 640, 640)\n"
          ]
        },
        {
          "output_type": "stream",
          "name": "stdout",
          "text": [
            "Progress:  271 / 341\n"
          ]
        },
        {
          "output_type": "stream",
          "name": "stderr",
          "text": [
            "\n",
            "0: 384x640 30 persons, 1 bird, 168.4ms\n",
            "Speed: 3.3ms preprocess, 168.4ms inference, 1.2ms postprocess per image at shape (1, 3, 640, 640)\n"
          ]
        },
        {
          "output_type": "stream",
          "name": "stdout",
          "text": [
            "Progress:  272 / 341\n"
          ]
        },
        {
          "output_type": "stream",
          "name": "stderr",
          "text": [
            "\n"
          ]
        },
        {
          "output_type": "stream",
          "name": "stdout",
          "text": [
            "Progress:  273 / 341\n"
          ]
        },
        {
          "output_type": "stream",
          "name": "stderr",
          "text": [
            "0: 384x640 31 persons, 1 bird, 201.9ms\n",
            "Speed: 2.3ms preprocess, 201.9ms inference, 1.1ms postprocess per image at shape (1, 3, 640, 640)\n",
            "\n"
          ]
        },
        {
          "output_type": "stream",
          "name": "stdout",
          "text": [
            "Progress:  274 / 341\n"
          ]
        },
        {
          "output_type": "stream",
          "name": "stderr",
          "text": [
            "0: 384x640 31 persons, 1 bird, 200.8ms\n",
            "Speed: 1.7ms preprocess, 200.8ms inference, 1.1ms postprocess per image at shape (1, 3, 640, 640)\n",
            "\n"
          ]
        },
        {
          "output_type": "stream",
          "name": "stdout",
          "text": [
            "Progress:  275 / 341\n"
          ]
        },
        {
          "output_type": "stream",
          "name": "stderr",
          "text": [
            "0: 384x640 27 persons, 1 traffic light, 1 bird, 1 dog, 194.9ms\n",
            "Speed: 1.7ms preprocess, 194.9ms inference, 2.2ms postprocess per image at shape (1, 3, 640, 640)\n",
            "\n",
            "0: 384x640 27 persons, 1 bird, 1 dog, 131.6ms\n",
            "Speed: 5.1ms preprocess, 131.6ms inference, 1.1ms postprocess per image at shape (1, 3, 640, 640)\n"
          ]
        },
        {
          "output_type": "stream",
          "name": "stdout",
          "text": [
            "Progress:  276 / 341\n"
          ]
        },
        {
          "output_type": "stream",
          "name": "stderr",
          "text": [
            "\n",
            "0: 384x640 30 persons, 1 bird, 1 dog, 1 handbag, 160.9ms\n",
            "Speed: 1.7ms preprocess, 160.9ms inference, 0.9ms postprocess per image at shape (1, 3, 640, 640)\n"
          ]
        },
        {
          "output_type": "stream",
          "name": "stdout",
          "text": [
            "Progress:  277 / 341\n"
          ]
        },
        {
          "output_type": "stream",
          "name": "stderr",
          "text": [
            "\n",
            "0: 384x640 31 persons, 3 handbags, 169.7ms\n",
            "Speed: 3.2ms preprocess, 169.7ms inference, 0.9ms postprocess per image at shape (1, 3, 640, 640)\n"
          ]
        },
        {
          "output_type": "stream",
          "name": "stdout",
          "text": [
            "Progress:  278 / 341\n"
          ]
        },
        {
          "output_type": "stream",
          "name": "stderr",
          "text": [
            "\n",
            "0: 384x640 33 persons, 2 handbags, 124.9ms\n",
            "Speed: 1.6ms preprocess, 124.9ms inference, 0.9ms postprocess per image at shape (1, 3, 640, 640)\n"
          ]
        },
        {
          "output_type": "stream",
          "name": "stdout",
          "text": [
            "Progress:  279 / 341\n"
          ]
        },
        {
          "output_type": "stream",
          "name": "stderr",
          "text": [
            "\n",
            "0: 384x640 31 persons, 2 handbags, 153.2ms\n",
            "Speed: 6.3ms preprocess, 153.2ms inference, 0.9ms postprocess per image at shape (1, 3, 640, 640)\n"
          ]
        },
        {
          "output_type": "stream",
          "name": "stdout",
          "text": [
            "Progress:  280 / 341\n"
          ]
        },
        {
          "output_type": "stream",
          "name": "stderr",
          "text": [
            "\n",
            "0: 384x640 32 persons, 1 handbag, 152.1ms\n",
            "Speed: 2.1ms preprocess, 152.1ms inference, 0.9ms postprocess per image at shape (1, 3, 640, 640)\n"
          ]
        },
        {
          "output_type": "stream",
          "name": "stdout",
          "text": [
            "Progress:  281 / 341\n"
          ]
        },
        {
          "output_type": "stream",
          "name": "stderr",
          "text": [
            "\n",
            "0: 384x640 30 persons, 1 bird, 1 dog, 1 handbag, 140.1ms\n",
            "Speed: 9.1ms preprocess, 140.1ms inference, 0.9ms postprocess per image at shape (1, 3, 640, 640)\n"
          ]
        },
        {
          "output_type": "stream",
          "name": "stdout",
          "text": [
            "Progress:  282 / 341\n"
          ]
        },
        {
          "output_type": "stream",
          "name": "stderr",
          "text": [
            "\n",
            "0: 384x640 29 persons, 151.1ms\n",
            "Speed: 1.7ms preprocess, 151.1ms inference, 1.0ms postprocess per image at shape (1, 3, 640, 640)\n"
          ]
        },
        {
          "output_type": "stream",
          "name": "stdout",
          "text": [
            "Progress:  283 / 341\n"
          ]
        },
        {
          "output_type": "stream",
          "name": "stderr",
          "text": [
            "\n",
            "0: 384x640 28 persons, 1 dog, 123.5ms\n",
            "Speed: 3.7ms preprocess, 123.5ms inference, 0.9ms postprocess per image at shape (1, 3, 640, 640)\n"
          ]
        },
        {
          "output_type": "stream",
          "name": "stdout",
          "text": [
            "Progress:  284 / 341\n"
          ]
        },
        {
          "output_type": "stream",
          "name": "stderr",
          "text": [
            "\n",
            "0: 384x640 28 persons, 1 bird, 1 dog, 150.9ms\n",
            "Speed: 1.7ms preprocess, 150.9ms inference, 0.9ms postprocess per image at shape (1, 3, 640, 640)\n"
          ]
        },
        {
          "output_type": "stream",
          "name": "stdout",
          "text": [
            "Progress:  285 / 341\n"
          ]
        },
        {
          "output_type": "stream",
          "name": "stderr",
          "text": [
            "\n",
            "0: 384x640 29 persons, 1 bird, 1 dog, 155.9ms\n",
            "Speed: 10.0ms preprocess, 155.9ms inference, 0.9ms postprocess per image at shape (1, 3, 640, 640)\n"
          ]
        },
        {
          "output_type": "stream",
          "name": "stdout",
          "text": [
            "Progress:  286 / 341\n"
          ]
        },
        {
          "output_type": "stream",
          "name": "stderr",
          "text": [
            "\n",
            "0: 384x640 28 persons, 1 bird, 1 dog, 153.6ms\n",
            "Speed: 9.5ms preprocess, 153.6ms inference, 0.9ms postprocess per image at shape (1, 3, 640, 640)\n"
          ]
        },
        {
          "output_type": "stream",
          "name": "stdout",
          "text": [
            "Progress:  287 / 341\n"
          ]
        },
        {
          "output_type": "stream",
          "name": "stderr",
          "text": [
            "\n",
            "0: 384x640 26 persons, 1 bird, 1 backpack, 156.6ms\n",
            "Speed: 1.8ms preprocess, 156.6ms inference, 1.0ms postprocess per image at shape (1, 3, 640, 640)\n"
          ]
        },
        {
          "output_type": "stream",
          "name": "stdout",
          "text": [
            "Progress:  288 / 341\n"
          ]
        },
        {
          "output_type": "stream",
          "name": "stderr",
          "text": [
            "\n",
            "0: 384x640 25 persons, 1 bird, 1 backpack, 151.1ms\n",
            "Speed: 6.8ms preprocess, 151.1ms inference, 0.9ms postprocess per image at shape (1, 3, 640, 640)\n"
          ]
        },
        {
          "output_type": "stream",
          "name": "stdout",
          "text": [
            "Progress:  289 / 341\n"
          ]
        },
        {
          "output_type": "stream",
          "name": "stderr",
          "text": [
            "\n",
            "0: 384x640 26 persons, 1 bird, 1 dog, 118.9ms\n",
            "Speed: 1.7ms preprocess, 118.9ms inference, 0.9ms postprocess per image at shape (1, 3, 640, 640)\n"
          ]
        },
        {
          "output_type": "stream",
          "name": "stdout",
          "text": [
            "Progress:  290 / 341\n"
          ]
        },
        {
          "output_type": "stream",
          "name": "stderr",
          "text": [
            "\n",
            "0: 384x640 28 persons, 1 bird, 1 dog, 146.7ms\n",
            "Speed: 4.2ms preprocess, 146.7ms inference, 1.0ms postprocess per image at shape (1, 3, 640, 640)\n"
          ]
        },
        {
          "output_type": "stream",
          "name": "stdout",
          "text": [
            "Progress:  291 / 341\n"
          ]
        },
        {
          "output_type": "stream",
          "name": "stderr",
          "text": [
            "\n",
            "0: 384x640 29 persons, 1 bird, 1 dog, 151.6ms\n",
            "Speed: 1.6ms preprocess, 151.6ms inference, 1.8ms postprocess per image at shape (1, 3, 640, 640)\n"
          ]
        },
        {
          "output_type": "stream",
          "name": "stdout",
          "text": [
            "Progress:  292 / 341\n"
          ]
        },
        {
          "output_type": "stream",
          "name": "stderr",
          "text": [
            "\n",
            "0: 384x640 32 persons, 1 bird, 1 dog, 155.1ms\n",
            "Speed: 6.3ms preprocess, 155.1ms inference, 0.9ms postprocess per image at shape (1, 3, 640, 640)\n"
          ]
        },
        {
          "output_type": "stream",
          "name": "stdout",
          "text": [
            "Progress:  293 / 341\n"
          ]
        },
        {
          "output_type": "stream",
          "name": "stderr",
          "text": [
            "\n",
            "0: 384x640 28 persons, 1 bird, 1 dog, 148.0ms\n",
            "Speed: 7.9ms preprocess, 148.0ms inference, 1.4ms postprocess per image at shape (1, 3, 640, 640)\n"
          ]
        },
        {
          "output_type": "stream",
          "name": "stdout",
          "text": [
            "Progress:  294 / 341\n"
          ]
        },
        {
          "output_type": "stream",
          "name": "stderr",
          "text": [
            "\n"
          ]
        },
        {
          "output_type": "stream",
          "name": "stdout",
          "text": [
            "Progress:  295 / 341\n"
          ]
        },
        {
          "output_type": "stream",
          "name": "stderr",
          "text": [
            "0: 384x640 30 persons, 1 bird, 203.9ms\n",
            "Speed: 1.8ms preprocess, 203.9ms inference, 1.1ms postprocess per image at shape (1, 3, 640, 640)\n",
            "\n",
            "0: 384x640 31 persons, 2 birds, 175.9ms\n",
            "Speed: 6.0ms preprocess, 175.9ms inference, 1.2ms postprocess per image at shape (1, 3, 640, 640)\n"
          ]
        },
        {
          "output_type": "stream",
          "name": "stdout",
          "text": [
            "Progress:  296 / 341\n"
          ]
        },
        {
          "output_type": "stream",
          "name": "stderr",
          "text": [
            "\n"
          ]
        },
        {
          "output_type": "stream",
          "name": "stdout",
          "text": [
            "Progress:  297 / 341\n"
          ]
        },
        {
          "output_type": "stream",
          "name": "stderr",
          "text": [
            "0: 384x640 32 persons, 2 birds, 1 backpack, 194.2ms\n",
            "Speed: 2.7ms preprocess, 194.2ms inference, 1.5ms postprocess per image at shape (1, 3, 640, 640)\n",
            "\n",
            "0: 384x640 32 persons, 1 bird, 114.9ms\n",
            "Speed: 3.2ms preprocess, 114.9ms inference, 0.9ms postprocess per image at shape (1, 3, 640, 640)\n"
          ]
        },
        {
          "output_type": "stream",
          "name": "stdout",
          "text": [
            "Progress:  298 / 341\n"
          ]
        },
        {
          "output_type": "stream",
          "name": "stderr",
          "text": [
            "\n",
            "0: 384x640 30 persons, 164.7ms\n",
            "Speed: 9.8ms preprocess, 164.7ms inference, 1.1ms postprocess per image at shape (1, 3, 640, 640)\n"
          ]
        },
        {
          "output_type": "stream",
          "name": "stdout",
          "text": [
            "Progress:  299 / 341\n"
          ]
        },
        {
          "output_type": "stream",
          "name": "stderr",
          "text": [
            "\n",
            "0: 384x640 26 persons, 1 bird, 1 dog, 165.0ms\n",
            "Speed: 7.4ms preprocess, 165.0ms inference, 0.9ms postprocess per image at shape (1, 3, 640, 640)\n"
          ]
        },
        {
          "output_type": "stream",
          "name": "stdout",
          "text": [
            "Progress:  300 / 341\n"
          ]
        },
        {
          "output_type": "stream",
          "name": "stderr",
          "text": [
            "\n",
            "0: 384x640 26 persons, 1 bird, 1 dog, 157.2ms\n",
            "Speed: 1.8ms preprocess, 157.2ms inference, 1.1ms postprocess per image at shape (1, 3, 640, 640)\n"
          ]
        },
        {
          "output_type": "stream",
          "name": "stdout",
          "text": [
            "Progress:  301 / 341\n"
          ]
        },
        {
          "output_type": "stream",
          "name": "stderr",
          "text": [
            "\n",
            "0: 384x640 28 persons, 1 bird, 1 dog, 126.3ms\n",
            "Speed: 2.0ms preprocess, 126.3ms inference, 0.9ms postprocess per image at shape (1, 3, 640, 640)\n"
          ]
        },
        {
          "output_type": "stream",
          "name": "stdout",
          "text": [
            "Progress:  302 / 341\n"
          ]
        },
        {
          "output_type": "stream",
          "name": "stderr",
          "text": [
            "\n",
            "0: 384x640 30 persons, 2 birds, 123.5ms\n",
            "Speed: 1.7ms preprocess, 123.5ms inference, 1.0ms postprocess per image at shape (1, 3, 640, 640)\n"
          ]
        },
        {
          "output_type": "stream",
          "name": "stdout",
          "text": [
            "Progress:  303 / 341\n"
          ]
        },
        {
          "output_type": "stream",
          "name": "stderr",
          "text": [
            "\n",
            "0: 384x640 29 persons, 2 birds, 155.6ms\n",
            "Speed: 2.0ms preprocess, 155.6ms inference, 0.9ms postprocess per image at shape (1, 3, 640, 640)\n"
          ]
        },
        {
          "output_type": "stream",
          "name": "stdout",
          "text": [
            "Progress:  304 / 341\n"
          ]
        },
        {
          "output_type": "stream",
          "name": "stderr",
          "text": [
            "\n",
            "0: 384x640 28 persons, 2 birds, 155.0ms\n",
            "Speed: 2.3ms preprocess, 155.0ms inference, 0.8ms postprocess per image at shape (1, 3, 640, 640)\n"
          ]
        },
        {
          "output_type": "stream",
          "name": "stdout",
          "text": [
            "Progress:  305 / 341\n"
          ]
        },
        {
          "output_type": "stream",
          "name": "stderr",
          "text": [
            "\n",
            "0: 384x640 31 persons, 2 birds, 117.7ms\n",
            "Speed: 2.9ms preprocess, 117.7ms inference, 0.9ms postprocess per image at shape (1, 3, 640, 640)\n"
          ]
        },
        {
          "output_type": "stream",
          "name": "stdout",
          "text": [
            "Progress:  306 / 341\n"
          ]
        },
        {
          "output_type": "stream",
          "name": "stderr",
          "text": [
            "\n",
            "0: 384x640 27 persons, 1 bird, 150.0ms\n",
            "Speed: 8.1ms preprocess, 150.0ms inference, 0.9ms postprocess per image at shape (1, 3, 640, 640)\n"
          ]
        },
        {
          "output_type": "stream",
          "name": "stdout",
          "text": [
            "Progress:  307 / 341\n"
          ]
        },
        {
          "output_type": "stream",
          "name": "stderr",
          "text": [
            "\n",
            "0: 384x640 29 persons, 1 bird, 166.6ms\n",
            "Speed: 9.8ms preprocess, 166.6ms inference, 1.0ms postprocess per image at shape (1, 3, 640, 640)\n"
          ]
        },
        {
          "output_type": "stream",
          "name": "stdout",
          "text": [
            "Progress:  308 / 341\n"
          ]
        },
        {
          "output_type": "stream",
          "name": "stderr",
          "text": [
            "\n",
            "0: 384x640 28 persons, 1 dog, 142.3ms\n",
            "Speed: 1.7ms preprocess, 142.3ms inference, 0.9ms postprocess per image at shape (1, 3, 640, 640)\n"
          ]
        },
        {
          "output_type": "stream",
          "name": "stdout",
          "text": [
            "Progress:  309 / 341\n"
          ]
        },
        {
          "output_type": "stream",
          "name": "stderr",
          "text": [
            "\n",
            "0: 384x640 28 persons, 1 dog, 145.8ms\n",
            "Speed: 2.9ms preprocess, 145.8ms inference, 0.9ms postprocess per image at shape (1, 3, 640, 640)\n"
          ]
        },
        {
          "output_type": "stream",
          "name": "stdout",
          "text": [
            "Progress:  310 / 341\n"
          ]
        },
        {
          "output_type": "stream",
          "name": "stderr",
          "text": [
            "\n",
            "0: 384x640 28 persons, 1 dog, 152.9ms\n",
            "Speed: 1.5ms preprocess, 152.9ms inference, 0.9ms postprocess per image at shape (1, 3, 640, 640)\n"
          ]
        },
        {
          "output_type": "stream",
          "name": "stdout",
          "text": [
            "Progress:  311 / 341\n"
          ]
        },
        {
          "output_type": "stream",
          "name": "stderr",
          "text": [
            "\n",
            "0: 384x640 30 persons, 1 dog, 146.1ms\n",
            "Speed: 6.0ms preprocess, 146.1ms inference, 0.9ms postprocess per image at shape (1, 3, 640, 640)\n"
          ]
        },
        {
          "output_type": "stream",
          "name": "stdout",
          "text": [
            "Progress:  312 / 341\n"
          ]
        },
        {
          "output_type": "stream",
          "name": "stderr",
          "text": [
            "\n",
            "0: 384x640 29 persons, 1 bird, 1 dog, 150.3ms\n",
            "Speed: 2.5ms preprocess, 150.3ms inference, 0.9ms postprocess per image at shape (1, 3, 640, 640)\n"
          ]
        },
        {
          "output_type": "stream",
          "name": "stdout",
          "text": [
            "Progress:  313 / 341\n"
          ]
        },
        {
          "output_type": "stream",
          "name": "stderr",
          "text": [
            "\n",
            "0: 384x640 30 persons, 1 bird, 150.7ms\n",
            "Speed: 2.9ms preprocess, 150.7ms inference, 0.9ms postprocess per image at shape (1, 3, 640, 640)\n"
          ]
        },
        {
          "output_type": "stream",
          "name": "stdout",
          "text": [
            "Progress:  314 / 341\n"
          ]
        },
        {
          "output_type": "stream",
          "name": "stderr",
          "text": [
            "\n",
            "0: 384x640 29 persons, 1 bird, 153.6ms\n",
            "Speed: 5.0ms preprocess, 153.6ms inference, 0.9ms postprocess per image at shape (1, 3, 640, 640)\n"
          ]
        },
        {
          "output_type": "stream",
          "name": "stdout",
          "text": [
            "Progress:  315 / 341\n"
          ]
        },
        {
          "output_type": "stream",
          "name": "stderr",
          "text": [
            "\n",
            "0: 384x640 29 persons, 1 bird, 129.0ms\n",
            "Speed: 1.7ms preprocess, 129.0ms inference, 1.1ms postprocess per image at shape (1, 3, 640, 640)\n"
          ]
        },
        {
          "output_type": "stream",
          "name": "stdout",
          "text": [
            "Progress:  316 / 341\n"
          ]
        },
        {
          "output_type": "stream",
          "name": "stderr",
          "text": [
            "\n",
            "0: 384x640 28 persons, 1 bird, 147.9ms\n",
            "Speed: 3.9ms preprocess, 147.9ms inference, 1.2ms postprocess per image at shape (1, 3, 640, 640)\n"
          ]
        },
        {
          "output_type": "stream",
          "name": "stdout",
          "text": [
            "Progress:  317 / 341\n"
          ]
        },
        {
          "output_type": "stream",
          "name": "stderr",
          "text": [
            "\n"
          ]
        },
        {
          "output_type": "stream",
          "name": "stdout",
          "text": [
            "Progress:  318 / 341\n"
          ]
        },
        {
          "output_type": "stream",
          "name": "stderr",
          "text": [
            "0: 384x640 29 persons, 1 umbrella, 194.0ms\n",
            "Speed: 7.8ms preprocess, 194.0ms inference, 1.4ms postprocess per image at shape (1, 3, 640, 640)\n",
            "\n",
            "0: 384x640 29 persons, 188.2ms\n"
          ]
        },
        {
          "output_type": "stream",
          "name": "stdout",
          "text": [
            "Progress:  319 / 341\n"
          ]
        },
        {
          "output_type": "stream",
          "name": "stderr",
          "text": [
            "Speed: 1.8ms preprocess, 188.2ms inference, 1.1ms postprocess per image at shape (1, 3, 640, 640)\n",
            "\n",
            "0: 384x640 30 persons, 182.8ms\n"
          ]
        },
        {
          "output_type": "stream",
          "name": "stdout",
          "text": [
            "Progress:  320 / 341\n"
          ]
        },
        {
          "output_type": "stream",
          "name": "stderr",
          "text": [
            "Speed: 5.0ms preprocess, 182.8ms inference, 1.1ms postprocess per image at shape (1, 3, 640, 640)\n",
            "\n",
            "0: 384x640 31 persons, 134.3ms\n",
            "Speed: 3.2ms preprocess, 134.3ms inference, 0.8ms postprocess per image at shape (1, 3, 640, 640)\n"
          ]
        },
        {
          "output_type": "stream",
          "name": "stdout",
          "text": [
            "Progress:  321 / 341\n"
          ]
        },
        {
          "output_type": "stream",
          "name": "stderr",
          "text": [
            "\n",
            "0: 384x640 32 persons, 158.7ms\n",
            "Speed: 4.1ms preprocess, 158.7ms inference, 0.9ms postprocess per image at shape (1, 3, 640, 640)\n"
          ]
        },
        {
          "output_type": "stream",
          "name": "stdout",
          "text": [
            "Progress:  322 / 341\n"
          ]
        },
        {
          "output_type": "stream",
          "name": "stderr",
          "text": [
            "\n",
            "0: 384x640 27 persons, 140.8ms\n",
            "Speed: 8.3ms preprocess, 140.8ms inference, 0.9ms postprocess per image at shape (1, 3, 640, 640)\n"
          ]
        },
        {
          "output_type": "stream",
          "name": "stdout",
          "text": [
            "Progress:  323 / 341\n"
          ]
        },
        {
          "output_type": "stream",
          "name": "stderr",
          "text": [
            "\n",
            "0: 384x640 27 persons, 153.8ms\n",
            "Speed: 1.7ms preprocess, 153.8ms inference, 1.0ms postprocess per image at shape (1, 3, 640, 640)\n"
          ]
        },
        {
          "output_type": "stream",
          "name": "stdout",
          "text": [
            "Progress:  324 / 341\n"
          ]
        },
        {
          "output_type": "stream",
          "name": "stderr",
          "text": [
            "\n",
            "0: 384x640 28 persons, 152.4ms\n",
            "Speed: 3.4ms preprocess, 152.4ms inference, 0.9ms postprocess per image at shape (1, 3, 640, 640)\n"
          ]
        },
        {
          "output_type": "stream",
          "name": "stdout",
          "text": [
            "Progress:  325 / 341\n"
          ]
        },
        {
          "output_type": "stream",
          "name": "stderr",
          "text": [
            "\n",
            "0: 384x640 30 persons, 147.7ms\n",
            "Speed: 1.7ms preprocess, 147.7ms inference, 1.4ms postprocess per image at shape (1, 3, 640, 640)\n"
          ]
        },
        {
          "output_type": "stream",
          "name": "stdout",
          "text": [
            "Progress:  326 / 341\n"
          ]
        },
        {
          "output_type": "stream",
          "name": "stderr",
          "text": [
            "\n",
            "0: 384x640 28 persons, 134.9ms\n",
            "Speed: 9.3ms preprocess, 134.9ms inference, 0.9ms postprocess per image at shape (1, 3, 640, 640)\n"
          ]
        },
        {
          "output_type": "stream",
          "name": "stdout",
          "text": [
            "Progress:  327 / 341\n"
          ]
        },
        {
          "output_type": "stream",
          "name": "stderr",
          "text": [
            "\n",
            "0: 384x640 29 persons, 1 dog, 164.9ms\n",
            "Speed: 1.7ms preprocess, 164.9ms inference, 1.2ms postprocess per image at shape (1, 3, 640, 640)\n"
          ]
        },
        {
          "output_type": "stream",
          "name": "stdout",
          "text": [
            "Progress:  328 / 341\n"
          ]
        },
        {
          "output_type": "stream",
          "name": "stderr",
          "text": [
            "\n",
            "0: 384x640 28 persons, 1 dog, 141.2ms\n",
            "Speed: 5.8ms preprocess, 141.2ms inference, 0.9ms postprocess per image at shape (1, 3, 640, 640)\n"
          ]
        },
        {
          "output_type": "stream",
          "name": "stdout",
          "text": [
            "Progress:  329 / 341\n"
          ]
        },
        {
          "output_type": "stream",
          "name": "stderr",
          "text": [
            "\n",
            "0: 384x640 29 persons, 1 dog, 160.5ms\n",
            "Speed: 3.1ms preprocess, 160.5ms inference, 0.9ms postprocess per image at shape (1, 3, 640, 640)\n"
          ]
        },
        {
          "output_type": "stream",
          "name": "stdout",
          "text": [
            "Progress:  330 / 341\n"
          ]
        },
        {
          "output_type": "stream",
          "name": "stderr",
          "text": [
            "\n",
            "0: 384x640 29 persons, 1 dog, 127.2ms\n",
            "Speed: 1.7ms preprocess, 127.2ms inference, 0.9ms postprocess per image at shape (1, 3, 640, 640)\n"
          ]
        },
        {
          "output_type": "stream",
          "name": "stdout",
          "text": [
            "Progress:  331 / 341\n"
          ]
        },
        {
          "output_type": "stream",
          "name": "stderr",
          "text": [
            "\n",
            "0: 384x640 29 persons, 157.2ms\n",
            "Speed: 2.0ms preprocess, 157.2ms inference, 0.9ms postprocess per image at shape (1, 3, 640, 640)\n"
          ]
        },
        {
          "output_type": "stream",
          "name": "stdout",
          "text": [
            "Progress:  332 / 341\n"
          ]
        },
        {
          "output_type": "stream",
          "name": "stderr",
          "text": [
            "\n",
            "0: 384x640 32 persons, 1 bird, 133.5ms\n",
            "Speed: 1.7ms preprocess, 133.5ms inference, 0.9ms postprocess per image at shape (1, 3, 640, 640)\n"
          ]
        },
        {
          "output_type": "stream",
          "name": "stdout",
          "text": [
            "Progress:  333 / 341\n"
          ]
        },
        {
          "output_type": "stream",
          "name": "stderr",
          "text": [
            "\n",
            "0: 384x640 30 persons, 1 bird, 144.1ms\n",
            "Speed: 8.9ms preprocess, 144.1ms inference, 1.0ms postprocess per image at shape (1, 3, 640, 640)\n"
          ]
        },
        {
          "output_type": "stream",
          "name": "stdout",
          "text": [
            "Progress:  334 / 341\n"
          ]
        },
        {
          "output_type": "stream",
          "name": "stderr",
          "text": [
            "\n",
            "0: 384x640 34 persons, 1 bird, 125.9ms\n",
            "Speed: 1.7ms preprocess, 125.9ms inference, 0.9ms postprocess per image at shape (1, 3, 640, 640)\n"
          ]
        },
        {
          "output_type": "stream",
          "name": "stdout",
          "text": [
            "Progress:  335 / 341\n"
          ]
        },
        {
          "output_type": "stream",
          "name": "stderr",
          "text": [
            "\n",
            "0: 384x640 30 persons, 1 bird, 158.0ms\n",
            "Speed: 2.4ms preprocess, 158.0ms inference, 0.9ms postprocess per image at shape (1, 3, 640, 640)\n"
          ]
        },
        {
          "output_type": "stream",
          "name": "stdout",
          "text": [
            "Progress:  336 / 341\n"
          ]
        },
        {
          "output_type": "stream",
          "name": "stderr",
          "text": [
            "\n",
            "0: 384x640 31 persons, 1 bird, 126.5ms\n",
            "Speed: 2.1ms preprocess, 126.5ms inference, 0.9ms postprocess per image at shape (1, 3, 640, 640)\n"
          ]
        },
        {
          "output_type": "stream",
          "name": "stdout",
          "text": [
            "Progress:  337 / 341\n"
          ]
        },
        {
          "output_type": "stream",
          "name": "stderr",
          "text": [
            "\n",
            "0: 384x640 32 persons, 1 bird, 160.5ms\n",
            "Speed: 8.9ms preprocess, 160.5ms inference, 1.0ms postprocess per image at shape (1, 3, 640, 640)\n"
          ]
        },
        {
          "output_type": "stream",
          "name": "stdout",
          "text": [
            "Progress:  338 / 341\n"
          ]
        },
        {
          "output_type": "stream",
          "name": "stderr",
          "text": [
            "\n"
          ]
        },
        {
          "output_type": "stream",
          "name": "stdout",
          "text": [
            "Progress:  339 / 341\n"
          ]
        },
        {
          "output_type": "stream",
          "name": "stderr",
          "text": [
            "0: 384x640 31 persons, 1 bird, 203.5ms\n",
            "Speed: 7.1ms preprocess, 203.5ms inference, 1.1ms postprocess per image at shape (1, 3, 640, 640)\n",
            "\n"
          ]
        },
        {
          "output_type": "stream",
          "name": "stdout",
          "text": [
            "Progress:  340 / 341\n"
          ]
        },
        {
          "output_type": "stream",
          "name": "stderr",
          "text": [
            "0: 384x640 32 persons, 1 bird, 214.4ms\n",
            "Speed: 1.7ms preprocess, 214.4ms inference, 1.3ms postprocess per image at shape (1, 3, 640, 640)\n"
          ]
        },
        {
          "output_type": "stream",
          "name": "stdout",
          "text": [
            "Progress:  341 / 341\n",
            "Fineshed ...\n"
          ]
        }
      ]
    }
  ]
}